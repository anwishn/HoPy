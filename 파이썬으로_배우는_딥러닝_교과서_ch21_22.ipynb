{
  "nbformat": 4,
  "nbformat_minor": 0,
  "metadata": {
    "colab": {
      "provenance": [],
      "collapsed_sections": [],
      "authorship_tag": "ABX9TyOOY9DFGnzMb6x/9zMrcQ4N",
      "include_colab_link": true
    },
    "kernelspec": {
      "name": "python3",
      "display_name": "Python 3"
    },
    "language_info": {
      "name": "python"
    }
  },
  "cells": [
    {
      "cell_type": "markdown",
      "metadata": {
        "id": "view-in-github",
        "colab_type": "text"
      },
      "source": [
        "<a href=\"https://colab.research.google.com/github/anwishn/HoPy/blob/main/%ED%8C%8C%EC%9D%B4%EC%8D%AC%EC%9C%BC%EB%A1%9C_%EB%B0%B0%EC%9A%B0%EB%8A%94_%EB%94%A5%EB%9F%AC%EB%8B%9D_%EA%B5%90%EA%B3%BC%EC%84%9C_ch21_22.ipynb\" target=\"_parent\"><img src=\"https://colab.research.google.com/assets/colab-badge.svg\" alt=\"Open In Colab\"/></a>"
      ]
    },
    {
      "cell_type": "markdown",
      "source": [
        "# ch21. CNN을 이용한 이미지 인식 기초"
      ],
      "metadata": {
        "id": "rwQAbrg9XiiA"
      }
    },
    {
      "cell_type": "markdown",
      "source": [
        "## 21.1 딥러닝 이미지 인식\n",
        "\n",
        "**이미지 인식** : 이미지나 영상에 비치는 문자와 얼굴 등의 물체나 특징을 감지하는 기술\n",
        "\n",
        ": 이미지 분류, 물체 위치 감지, 이미지 내용 확인 등 다양한 인식 기술\n",
        "\n",
        "* 다양한 분야에서 실용화 진행중"
      ],
      "metadata": {
        "id": "5RumZTg5vwe1"
      }
    },
    {
      "cell_type": "markdown",
      "source": [
        "## 21.2 CNN"
      ],
      "metadata": {
        "id": "f51hcy4qw-jA"
      }
    },
    {
      "cell_type": "markdown",
      "source": [
        "### 21.2.1 CNN의 개요\n",
        "\n",
        "**CNN(합성곱 신경망)** : 인간 뇌의 시각 피질과 유사한 구조를 가진 합성곱층을 사용하여 학습에 의해 자동으로 특징을 추출하는 신경망\n",
        "* 합성곱층과 함께 풀링층이 사용돼\n",
        "* 합성곱층에서 얻은 정보를 축약하여 풀링층에서 최종적으로 이미지의 분류 등을 실시\n",
        "* 합성곱층은 2차원 그대로의 이미지 데이터를 처리하여 특징 추출 가능(전결합층과의 차이점) \n",
        "\n",
        "   -> 2차원적인 특징 추출하는데 뛰어나"
      ],
      "metadata": {
        "id": "G4sE3DJ-wMyA"
      }
    },
    {
      "cell_type": "markdown",
      "source": [
        "### 21.2 합성곱층\n",
        "\n",
        "**합성곱층** : 입력 데이터의 일부분에 주목하여 그 부분에 대한 이미지의 특징을 조사하는 층\n",
        "\n",
        "* 어떤 특징에 주목하면 좋을지에 대해서는 학습용 데이터와 손실 함수 등을 적절하게 결정하여 자동으로 학습\n",
        "* 프로그램 내부에서는 필터(커널)로 불리는 가중치 행렬로 처리, 각 특징마다 하나의 필터 사용"
      ],
      "metadata": {
        "id": "Q0TIQTTMw7Ft"
      }
    },
    {
      "cell_type": "markdown",
      "source": [
        "### 21.2.3 풀링층\n",
        "\n",
        "**풀링층** : 합성곱층의 출력을 축약하고 데이터양을 줄이는 층\n",
        "\n",
        "* 특징 맵의 부분 구간의 최댓값을 취하거나(Max 풀링) 또는 평균을 취하여(Average 풀링) 데이터의 압축 실시\n",
        "\n",
        "+) 스트라이드 stride : 필터 적용 위치가 하나가 아니라 지정한 간격으로 순회하면서 계산하는 경우가 있는데, 그 필터를 순회하는 간격\n",
        "\n",
        "* 합성곱에서는 데이터 낭비 많아\n",
        "* 풀링은 그러한 데이터 낭비를 줄이고, 정보 손실을 최소화하면서 데이터 압축 가능\n",
        "* 풀링에 의해 미세한 위치 정보는 삭제되어 버리지만 반대로 풀링층에 의해 추출된 특징이 영향을 받지 않는 역할을 해"
      ],
      "metadata": {
        "id": "lkyxLAM_xcn2"
      }
    },
    {
      "cell_type": "code",
      "execution_count": null,
      "metadata": {
        "colab": {
          "base_uri": "https://localhost:8080/",
          "height": 691
        },
        "id": "Gpxm7SXrXdum",
        "outputId": "1d021f44-0f0e-47ab-d513-3442067a630a"
      },
      "outputs": [
        {
          "output_type": "display_data",
          "data": {
            "text/plain": [
              "<Figure size 432x288 with 1 Axes>"
            ],
            "image/png": "[encoded data removed]"
          },
          "metadata": {
            "needs_background": "light"
          }
        },
        {
          "output_type": "display_data",
          "data": {
            "text/plain": [
              "<Figure size 432x288 with 4 Axes>"
            ],
            "image/png": "[encoded data removed]"
          },
          "metadata": {
            "needs_background": "light"
          }
        },
        {
          "output_type": "display_data",
          "data": {
            "text/plain": [
              "<Figure size 432x288 with 4 Axes>"
            ],
            "image/png": "[encoded data removed]"
          },
          "metadata": {
            "needs_background": "light"
          }
        }
      ],
      "source": [
        "import numpy as np\n",
        "import matplotlib.pyplot as plt\n",
        "import urllib.request\n",
        "%matplotlib inline\n",
        "\n",
        "# 아주 간단한 합성곱층을 정의합니다.\n",
        "class Conv:\n",
        "  # W는 3x3으로 고정하고 이후 다룰 strides나 padding은 고려x\n",
        "  def __init__(self,W):\n",
        "    self.W = W\n",
        "  def f_prop(self,X):\n",
        "    out = np.zeros((X.shape[0]-2, X.shape[1]-2))\n",
        "    for i in range(out.shape[0]):\n",
        "      for j in range(out.shape[1]):\n",
        "        x = X[i:i+3, j:j+3]\n",
        "        # 각 요소별 곱의 합계\n",
        "        out[i,j] = np.dot(self.W.flatten(), x.flatten())\n",
        "    return out\n",
        "\n",
        "local_filename, headers=urllib.request.urlretrieve('https://aidemystorageprd.blob.core.windows.net/data/5100_cnn_data/circle.npy')\n",
        "X = np.load(local_filename)\n",
        "\n",
        "plt.imshow(X)\n",
        "plt.title(\"The original image\", fontsize=12)\n",
        "plt.show()\n",
        "\n",
        "# 커널을 적절하게 설정\n",
        "W1 = np.array([[0,1,0],\n",
        "               [0,1,0],\n",
        "               [0,1,0]])\n",
        "W2 = np.array([[0,0,0],\n",
        "               [1,1,1],\n",
        "               [0,0,0]])\n",
        "W3 = np.array([[1,0,0],\n",
        "               [0,1,0],\n",
        "               [0,0,1]])\n",
        "W4 = np.array([[0,0,1],\n",
        "               [0,1,0],\n",
        "               [1,0,0]])\n",
        "\n",
        "plt.subplot(1,4,1); plt.imshow(W1)\n",
        "plt.subplot(1,4,2); plt.imshow(W2)\n",
        "plt.subplot(1,4,3); plt.imshow(W3)\n",
        "plt.subplot(1,4,4); plt.imshow(W4)\n",
        "plt.suptitle(\"kernel\", fontsize=12)\n",
        "plt.show()\n",
        "\n",
        "# 합성곱\n",
        "conv1 = Conv(W1); C1 = conv1.f_prop(X)\n",
        "conv2 = Conv(W2); C2 = conv2.f_prop(X)\n",
        "conv3 = Conv(W3); C3 = conv3.f_prop(X)\n",
        "conv4 = Conv(W4); C4 = conv4.f_prop(X)\n",
        "\n",
        "plt.subplot(1,4,1); plt.imshow(C1)\n",
        "plt.subplot(1,4,2); plt.imshow(C2)\n",
        "plt.subplot(1,4,3); plt.imshow(C3)\n",
        "plt.subplot(1,4,4); plt.imshow(C4)\n",
        "plt.suptitle(\"Convolution result\", fontsize=12)\n",
        "plt.show()"
      ]
    },
    {
      "cell_type": "markdown",
      "source": [
        "### 21.2.4 CNN 구현\n",
        "\n",
        "1. 모델을 관리하는 인스턴스 만들기 - Sequential()\n",
        "\n",
        "```\n",
        "model = Sequential()\n",
        "```\n",
        "\n",
        "2. 모델의 층을 하나씩 추가 - add()메서드\n",
        "```\n",
        "model.add(Dense(128))    # 전결합층\n",
        "model.add(Conv2D(filters=64, kernel_size=(3,3)))    # 합성곱층\n",
        "model.add(MaxPooling2D(pool_size=(2,2)))        # 풀링층\n",
        "```\n",
        "\n",
        "3. 컴파일\n",
        "\n",
        "```\n",
        "model.compile(optimizer=sgd, loss=\"categorical_crossentropy\", metrics=[\"accuracy\"])\n",
        "```\n",
        "\n",
        "4. 모델의 구조 출력\n",
        "\n",
        "```\n",
        "model.summary()\n",
        "```\n",
        "\n"
      ],
      "metadata": {
        "id": "9vUITbiYy3CG"
      }
    },
    {
      "cell_type": "markdown",
      "source": [
        "### 21.2.5 CNN을 이용한 분류(MNIST)\n",
        "\n",
        "MNIST : 필기체 숫자의 데이터셋\n",
        "* 각 이미지는 크기가 28X28 픽셀\n",
        "* 1채널(흑백)의 데이터\n",
        "* 각각 0~9의 클래스 라벨"
      ],
      "metadata": {
        "id": "4-s-Pbzf0GdE"
      }
    },
    {
      "cell_type": "markdown",
      "source": [
        "### 21.2.6 CNN을 이용한 분류(cifar10)\n",
        "\n",
        "cifar10 : 10종류의 개체가 있는 이미지 데이터셋\n",
        "\n",
        "* 각 이미지는 32X32 픽셀\n",
        "* 3채널(R,G,B)의 데이터\n",
        "* 각각 0~9의 클래스 라벨(0 비행기/ 1 자동차 / 2 새 / 3 고양이 / 4 사슴 / 5 개 / 6 개구리 / 7 말 / 8 선박 / 9 트럭)"
      ],
      "metadata": {
        "id": "H7vaPDsu0PpE"
      }
    },
    {
      "cell_type": "markdown",
      "source": [
        "## 21.3 하이퍼파라미터"
      ],
      "metadata": {
        "id": "ahgc7o1n1AMi"
      }
    },
    {
      "cell_type": "markdown",
      "source": [
        "### 21.3.1 filters(합성곱층)\n",
        "\n",
        "합성곱층의 **filters** 파라미터 : 특징 맵의 수(추출한 특징의 종류) 지정\n",
        "* filters가 너무 작아서 필요한 특징을 추출하지 못하면 학습을 잘 진행되지 x\n",
        "* filters가 너무 크면 과학습하기 쉬워"
      ],
      "metadata": {
        "id": "xvdPPUtf1DJD"
      }
    },
    {
      "cell_type": "markdown",
      "source": [
        "### 21.3.2 kernel_size(합성곱층)\n",
        "\n",
        "합성곱층의 **kernel_size** 파라미터 : 커널의 크기 지정\n",
        "\n",
        "* kernel_size가 너무 작으면 극히 작은 특징도 검출할 수 없게 되어 제대로 학습x\n",
        "* kernel_size가 너무 크면 원래 작은 특징의 모임으로 검출될 예정이었던 큰 특징까지 검출 \n",
        "   \n",
        "   -> 계층 구조 파악에 자신 있는 신경망 모델의 강점을 살리지 못하고 비효율적인 모델이 되어버린다"
      ],
      "metadata": {
        "id": "IvOhp_an1UBA"
      }
    },
    {
      "cell_type": "markdown",
      "source": [
        "### 21.3.3 strides(합성곱층)\n",
        "\n",
        "합성곱층의 **strides** 파라미터 : 특징을 추출하는 간격, 즉 커널을 이동하는 거리 지정\n",
        "\n",
        "* strides가 작을수록 세부적인 특징량을 추출할 수 있다 \n",
        "\n",
        "   but 이미지 내의 동일한 위치에 같은 특징을 여러 번 감지해버리는 등 불필요한 계산 많아질 수 있다\n",
        "\n",
        "* 일반적으로 strides는 작은 편이 좋다고 여겨져 -> Keras의 Conv2D층에서 기본적으로 (1,1)"
      ],
      "metadata": {
        "id": "SGQHIVgk3nn1"
      }
    },
    {
      "cell_type": "markdown",
      "source": [
        "### 21.3.4 padding(합성곱층)\n",
        "\n",
        "**padding(패딩)** : 입력 이미지의 주변을 0으로 채우는 것\n",
        "\n",
        "장점\n",
        "* 가장자리 데이터의 특징도 잘 고려돼\n",
        "* 데이터 갱신 빈도가 올라가\n",
        "* 각 층의 입출력 유닛 수를 조정 가능\n",
        "\n",
        "Keras의 Conv2D 층에서 패딩 방법 지정\n",
        "> * padding=valid : 패딩 수행되지 않아\n",
        "> * padding=same : 출력되는 특징 맵이 입력 크기와 일치하도록 입력에 패딩 수행"
      ],
      "metadata": {
        "id": "L5aonOHY4IJY"
      }
    },
    {
      "cell_type": "markdown",
      "source": [
        "### 21.3.5 pool_size(풀링층)\n",
        "\n",
        "풀링층의 **pool_size** 파라미터 : 풀링의 거칠기를 지정하는 파라미터\n",
        "* pool_size를 크게 하면 위치에 대한 견고성(강건성)이 상승\n",
        "* 기본적으로 pool_size는 2X2로 하면 좋다고 알려짐"
      ],
      "metadata": {
        "id": "wdfNe5_w44f7"
      }
    },
    {
      "cell_type": "markdown",
      "source": [
        "### 21.3.6 strides(풀링층)\n",
        "\n",
        "풀링층의 **strides** 파라미터 : 특징 맵을 풀링하는 간격 지정\n",
        "* Keras의 Conv2D층에서 기본적으로 pool_size와 일치하도록"
      ],
      "metadata": {
        "id": "WC089CVN5Osk"
      }
    },
    {
      "cell_type": "markdown",
      "source": [
        "### 21.3.7 padding(풀링층)\n",
        "\n",
        "풀링층의 **padding** 파라미터 : 패딩 방식 지정\n",
        "\n",
        "Keras의 MaxPooling2D 층에서 패딩 방법 지정\n",
        "\n",
        "> * padding=valid : 패딩 수행되지 않아\n",
        "> * padding=same : 출력되는 특징 맵이 입력 크기와 일치하도록 입력에 패딩 수행"
      ],
      "metadata": {
        "id": "wcBRZn645f8W"
      }
    },
    {
      "cell_type": "code",
      "source": [
        "# 연습문제\n",
        "\n",
        "from keras.layers import Activation, Conv2D, Dense, Flatten, MaxPooling2D\n",
        "from keras.models import Sequential, load_model\n",
        "from keras.utils.np_utils import to_categorical\n",
        "\n",
        "# 모델 정의\n",
        "# 인스턴스 작성\n",
        "model = Sequential()\n",
        "\n",
        "model.add(Conv2D(input_shape=(28,28,1),\n",
        "                 filters=32,\n",
        "                 kernel_size=(2,2),\n",
        "                 strides=(1,1),\n",
        "                 padding=\"same\"))\n",
        "model.add(MaxPooling2D(pool_size=(2,2),\n",
        "                       strides=(1,1)))\n",
        "model.add(Conv2D(filters=32,\n",
        "                 kernel_size=(2,2),\n",
        "                 strides=(1,1),\n",
        "                 padding=\"same\"))\n",
        "model.add(MaxPooling2D(pool_size=(2,2),\n",
        "                       strides=(1,1)))\n",
        "model.add(Flatten())\n",
        "model.add(Dense(256))\n",
        "\n",
        "model.add(Activation('sigmoid'))\n",
        "model.add(Dense(128))\n",
        "\n",
        "model.add(Activation('sigmoid'))\n",
        "model.add(Dense(10))\n",
        "\n",
        "model.add(Activation('softmax'))\n",
        "\n",
        "model.summary()"
      ],
      "metadata": {
        "colab": {
          "base_uri": "https://localhost:8080/"
        },
        "id": "CWgGFCxVcTPj",
        "outputId": "a0ea55be-5f0d-44d5-bbe6-62d24dea1dc2"
      },
      "execution_count": null,
      "outputs": [
        {
          "output_type": "stream",
          "name": "stdout",
          "text": [
            "Model: \"sequential\"\n",
            "_________________________________________________________________\n",
            " Layer (type)                Output Shape              Param #   \n",
            "=================================================================\n",
            " conv2d (Conv2D)             (None, 28, 28, 32)        160       \n",
            "                                                                 \n",
            " max_pooling2d (MaxPooling2D  (None, 27, 27, 32)       0         \n",
            " )                                                               \n",
            "                                                                 \n",
            " conv2d_1 (Conv2D)           (None, 27, 27, 32)        4128      \n",
            "                                                                 \n",
            " max_pooling2d_1 (MaxPooling  (None, 26, 26, 32)       0         \n",
            " 2D)                                                             \n",
            "                                                                 \n",
            " flatten (Flatten)           (None, 21632)             0         \n",
            "                                                                 \n",
            " dense (Dense)               (None, 256)               5538048   \n",
            "                                                                 \n",
            " activation (Activation)     (None, 256)               0         \n",
            "                                                                 \n",
            " dense_1 (Dense)             (None, 128)               32896     \n",
            "                                                                 \n",
            " activation_1 (Activation)   (None, 128)               0         \n",
            "                                                                 \n",
            " dense_2 (Dense)             (None, 10)                1290      \n",
            "                                                                 \n",
            " activation_2 (Activation)   (None, 10)                0         \n",
            "                                                                 \n",
            "=================================================================\n",
            "Total params: 5,576,522\n",
            "Trainable params: 5,576,522\n",
            "Non-trainable params: 0\n",
            "_________________________________________________________________\n"
          ]
        }
      ]
    },
    {
      "cell_type": "markdown",
      "source": [
        "# ch22. CNN을 이용한 이미지 인식 응용"
      ],
      "metadata": {
        "id": "QDVJTWHo6B3Q"
      }
    },
    {
      "cell_type": "markdown",
      "source": [
        "## 22.1 데이터 부풀리기"
      ],
      "metadata": {
        "id": "uy1P5G486F3A"
      }
    },
    {
      "cell_type": "markdown",
      "source": [
        "### 22.1.1 ImageDataGenerator\n",
        "\n",
        "이미지 인식에는 이미지 데이터 및 그에 대응하는 라벨의 조합이 대량으로 필요\n",
        "\n",
        "-> 데이터 수를 충분한 양으로 늘릴 때 이미지 부풀리기 활용\n",
        "\n",
        "* 단순히 복사해 양을 늘리는 것x, 이미지를 뒤집거나 좌우로 조금씩 이동시켜 새로운 데이터 만들어\n",
        "\n",
        "Keras의 **ImageDataGenerator** 사용해 패딩 실시\n",
        "* ImageDataGenerator에는 여러 인수가 있어 다양한 방법으로 데이터를 쉽게 가공 가능 / 복수의 가공법을 조합하여 새로운 이미지 생성 가능\n",
        "\n",
        " + rotation_range : 회전하는 범위(단위 : degree)\n",
        " + width_shift_range : 수평 이동하는 범위(이미지의 가로폭에 대한 비율)\n",
        " + heigth_shift_range : 수직 이동하는 범위(이미지의 세로폭에 대한 비율)\n",
        " + shear_range : 전단(shearing) 범위. 크게 하면 더 비스듬하게 찌그러진 이미지가 됨(단위 : degree)\n",
        " + zoom_range : 이미지를 확대/축소시키는 비율(최소 : 1-zoom_range, 최대 : 1+zoom_range)\n",
        " + channel_shift_range : 입력이 RGB3 채널인 이미지의 경우 R,G,B 각각에 임의의 값을 더하거나 뺄 수 있음(0~255)\n",
        " + horizontal_flip : True로 설정 시 가로로 반전\n",
        " + vertical_flip : True로 설정 시 세로로 반전"
      ],
      "metadata": {
        "id": "M84BQs-46HvD"
      }
    },
    {
      "cell_type": "markdown",
      "source": [
        "## 22.2 정규화"
      ],
      "metadata": {
        "id": "8bB5grPg8TJm"
      }
    },
    {
      "cell_type": "markdown",
      "source": [
        "### 22.2.1 다양한 정규화 방법\n",
        "\n",
        "**정규화** : 규칙에 따라 데이터를 처리하고, 사용하기 쉽게 하는 것\n",
        "* 학습 효율을 크게 높일 수 있다\n",
        "* 간단한 모델을 사용하는 경우에 매우 유용\n",
        "* 정규화 방법\n",
        "\n",
        "   : 배치 정규화(BN), 주성분 분석(PCA), 특잇값 분해(SVD), 제로위상 성분 분석(ZCA), 국소 응답 정규화(LRN), 전역 콘트라스트 정규화(GCN), 국소 콘트라스트 정규화(LCN)\n",
        "\n",
        "   => 크게 표준화와 백색화로 나눌 수 있다 "
      ],
      "metadata": {
        "id": "ILORD1rD8Uz9"
      }
    },
    {
      "cell_type": "markdown",
      "source": [
        "### 22.2.2 표준화\n",
        "\n",
        "**표준화** : 개별 특징에 대해 평균을 0으로, 분산을 1로 하여 특징별 데이터 분포를 좁히는 방법\n",
        "\n",
        "* 가중치 붙음으로써 숨은 특징을 찾기 쉬워져"
      ],
      "metadata": {
        "id": "XxiYiegbUhVk"
      }
    },
    {
      "cell_type": "markdown",
      "source": [
        "### 22.2.3 백색화\n",
        "\n",
        "**백색화** : 데이터 성분 사이의 상관관계를 없애는 방법\n",
        "\n",
        "* 정보량이 적은 면이나 배경 등이 아니라 정보량이 많은 가장자리 등을 강조함으로써 학습효율을 높일 수 있다"
      ],
      "metadata": {
        "id": "x1U99XaAU2hO"
      }
    },
    {
      "cell_type": "markdown",
      "source": [
        "### 22.2.4 배치 정규화\n",
        "\n",
        "**배치 정규화** : 미니배치 학습을 통해 배치마다 표준화를 수행하는 것\n",
        "\n",
        "* model의 add() 메서드로 모델에 배치 정규화 통합 가능\n",
        "\n",
        "\n",
        "\n",
        "```\n",
        "model.add(BatchNormalization())\n",
        "```\n",
        "\n",
        "* 데이터의 전처리뿐만 아니라 중간층의 출력에도 적용 가능\n",
        "* 출력값의 범위가 한정되지 않은 함수의 출력에 사용 시 학습이 원활하게 진행되어 큰 효과 발휘"
      ],
      "metadata": {
        "id": "KjsmzDZrVGEt"
      }
    },
    {
      "cell_type": "markdown",
      "source": [
        "## 22.3 전이학습\n",
        "\n",
        "대규모 신경망을 학습시키는 데에 매우 많은 시간 소요, 데이터 대량 필요\n",
        "\n",
        "**전이학습** : 학습된 모델을 이용하여 새로운 모델을 학습시키는 것\n",
        "\n",
        "* VGG16 모델\n",
        "\n",
        ": 작은 필터를 사용한 합성곱을 2~4회 연속으로 실시하여 풀링을 반복하는 당시로서는 상당히 층을 깊게 한 것이 특징\n",
        "\n",
        ": VGG16(가중치 가진 층 16층 거듭), VGG19(19층 거듭)\n",
        "\n",
        " : 입력 이미지의 크기 신경 쓸 필요x"
      ],
      "metadata": {
        "id": "G9CY3KpZVj3K"
      }
    },
    {
      "cell_type": "markdown",
      "source": [
        "### 22.3.1 VGG16\n",
        "\n",
        "1. VGG 모델 만들기\n",
        "\n",
        "\n",
        "\n",
        "```\n",
        "from keras.applications.vgg16 import VGG16\n",
        "\n",
        "input_tensor = Input(shape=(32,32,3))\n",
        "vgg16 = VGG16(include_top=False, weights='imagenet', input_tensor=input_tensor)\n",
        "```\n",
        "\n",
        "* input_tensor : 입력 형태 부여\n",
        "* include_top : 원래 모델의 최후 전결합층을 사용할지 여부\n",
        "* weights : imagenet을 지정하면 ImageNet에서 학습한 가중치 사용 / None 지정하면 임의의 가중치 사용\n",
        "\n",
        "2. 다른 모델 정의\n",
        "\n",
        "특징 추출 부분 이후에 새로운 다른 층을 추가하기 위해 다른 모델 정의하고 결합\n",
        "\n",
        "```\n",
        "top_model = vgg16.output\n",
        "top_model = Flatten(input_shape=vgg16.output_shape[1:])(top_model)\n",
        "top_model = Dense(256, activation='sigmoid')(top_model)\n",
        "top_model = Dropout(0.5)(top_model)\n",
        "top_model = Dense(10, activation='softmax')(top_model)\n",
        "\n",
        "model = Model(inputs=vgg16.input, outputs=top_model)\n",
        "```\n",
        "\n",
        "3. 가중치 고정\n",
        "\n",
        "\n",
        "\n",
        "```\n",
        "# model의 19번째 층까지는 vgg모델\n",
        "for layer in model.layers[:19]:\n",
        "  layer.trainable = False\n",
        "```\n",
        "\n",
        "\n",
        "4. SGD로 최적화\n",
        "\n",
        "\n",
        "\n",
        "```\n",
        "model.compile(loss='categorical_crossentropy', optimizer=optimizers.SGD(lr=1e-4, momentum=0.9, metrics=['accuracy'])\n",
        "```\n",
        "\n"
      ],
      "metadata": {
        "id": "0sAu-wFgXNIm"
      }
    },
    {
      "cell_type": "code",
      "source": [
        "# 연습문제\n",
        "\n",
        "import matplotlib.pyplot as plt\n",
        "from keras.datasets import cifar10\n",
        "from keras.preprocessing.image import ImageDataGenerator\n",
        "%matplotlib inline\n",
        "\n",
        "# 이미지 데이터 읽어 들이기\n",
        "(X_train, y_train), (X_test, y_test) = cifar10.load_data()\n",
        "\n",
        "# 이미지 표시\n",
        "for i in range(10):\n",
        "  plt.subplot(2,5,i+1)\n",
        "  plt.imshow(X_train[i])\n",
        "plt.suptitle('original',fontsize=12)\n",
        "plt.show()\n",
        "\n",
        "# 확장할 때의 설정 기술\n",
        "generator = ImageDataGenerator(\n",
        "    rotation_range=90.\n",
        "    width_shift_range = 0.3,\n",
        "    height_shift_range=0.3,\n",
        "    channel_shift_range=70.0,\n",
        "    shear_range=0.39,\n",
        "    horizontal_flip=True,\n",
        "    vertical_flip=True\n",
        ")\n",
        "\n",
        "# 이미지 확장\n",
        "extension = generator.flow(X_train, shuffle=False)\n",
        "X_batch = extension.next()\n",
        "\n",
        "# 생성한 이미지 보기 좋게 만들기\n",
        "X_batch *= 127.0 / max(abs(X_batch.min()), X_batch.max())\n",
        "X_batch += 127.0\n",
        "X_batch = X_batch.astype('uint8')\n",
        "\n",
        "# 확장된 이미지 표시\n",
        "for i in range(10):\n",
        "  plt.subplot(2,5,i+1)\n",
        "  plt.imshow(X_batch[i])\n",
        "plt.suptitle('extension', fontsize=12)\n",
        "plt.show()"
      ],
      "metadata": {
        "colab": {
          "base_uri": "https://localhost:8080/",
          "height": 138
        },
        "id": "TmiRPqr-dY0o",
        "outputId": "faec7a1f-6d22-4271-d5d2-1f1daaf5100d"
      },
      "execution_count": null,
      "outputs": [
        {
          "output_type": "error",
          "ename": "SyntaxError",
          "evalue": "ignored",
          "traceback": [
            "\u001b[0;36m  File \u001b[0;32m\"<ipython-input-11-a8373d21006b>\"\u001b[0;36m, line \u001b[0;32m19\u001b[0m\n\u001b[0;31m    width_shift_range = 0.3,\u001b[0m\n\u001b[0m                    ^\u001b[0m\n\u001b[0;31mSyntaxError\u001b[0m\u001b[0;31m:\u001b[0m invalid syntax\n"
          ]
        }
      ]
    }
  ]
}