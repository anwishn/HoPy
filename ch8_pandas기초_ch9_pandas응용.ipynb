{
  "nbformat": 4,
  "nbformat_minor": 0,
  "metadata": {
    "colab": {
      "provenance": [],
      "collapsed_sections": [],
      "authorship_tag": "ABX9TyOXV6w3w1xJMwcX7XrSwSXM",
      "include_colab_link": true
    },
    "kernelspec": {
      "name": "python3",
      "display_name": "Python 3"
    },
    "language_info": {
      "name": "python"
    }
  },
  "cells": [
    {
      "cell_type": "markdown",
      "metadata": {
        "id": "view-in-github",
        "colab_type": "text"
      },
      "source": [
        "<a href=\"https://colab.research.google.com/github/anwishn/HoPy/blob/main/ch8_pandas%EA%B8%B0%EC%B4%88_ch9_pandas%EC%9D%91%EC%9A%A9.ipynb\" target=\"_parent\"><img src=\"https://colab.research.google.com/assets/colab-badge.svg\" alt=\"Open In Colab\"/></a>"
      ]
    },
    {
      "cell_type": "markdown",
      "source": [
        "파이썬으로 배우는 딥러닝 교과서 ch 8, 9"
      ],
      "metadata": {
        "id": "j7XGK4kvs-oL"
      }
    },
    {
      "cell_type": "markdown",
      "source": [
        "# ch8. Pandas 기초\n",
        "\n",
        "\n",
        "\n",
        "---\n",
        "\n"
      ],
      "metadata": {
        "id": "zMqo8FpntRlL"
      }
    },
    {
      "cell_type": "markdown",
      "source": [
        "## 8.1 Pandas 개요\n",
        "\n",
        "**Pandas** : 일반적인 데이터베이스에서 이뤄지는 작업 수행. 수치뿐 아니라 문자열 데이터도 쉽게 처리 가능\n",
        "\n",
        "* 데이터 구조 - Series와 DataFrame\n",
        " + 가로 방향 데이터 = 행 (라벨은 인덱스), 세로 방향 데이터 = 열 (라벨은 컬럼)\n"
      ],
      "metadata": {
        "id": "fkAOsgFtFT6C"
      }
    },
    {
      "cell_type": "markdown",
      "source": [
        "### 8.1.1 Series와 DataFrame의 데이터 확인\n",
        "\n",
        "Series에 딕셔너리형 전달하면 키에 의해 오름차순 정렬\n",
        "\n",
        "Series는 라벨이 붙은 1차원 데이터. DataFrame은 여러 Series 묶은 것과 같은 2차원 데이터 구조"
      ],
      "metadata": {
        "id": "0Y0aDngaced8"
      }
    },
    {
      "cell_type": "code",
      "source": [
        "# Pandas를 pd로 import\n",
        "import pandas as pd\n",
        "\n",
        "# DataFrame 데이터\n",
        "data = {\"fruits\":[\"apple\",\"orange\",\"banana\",\"strawberry\",\"kiwifruit\"],\n",
        "        \"year\":[2001,2002,2001,2008,2006],\n",
        "        \"time\":[1,4,5,6,3]}\n",
        "df=pd.DataFrame(data)\n",
        "print(df)"
      ],
      "metadata": {
        "colab": {
          "base_uri": "https://localhost:8080/"
        },
        "id": "5l1h1iLqG0SG",
        "outputId": "07bc6716-d26d-448d-a6ea-d2e96c59a862"
      },
      "execution_count": null,
      "outputs": [
        {
          "output_type": "stream",
          "name": "stdout",
          "text": [
            "       fruits  year  time\n",
            "0       apple  2001     1\n",
            "1      orange  2002     4\n",
            "2      banana  2001     5\n",
            "3  strawberry  2008     6\n",
            "4   kiwifruit  2006     3\n"
          ]
        }
      ]
    },
    {
      "cell_type": "markdown",
      "source": [
        "## 8.2 Series"
      ],
      "metadata": {
        "id": "8vRC4QiocWxO"
      }
    },
    {
      "cell_type": "markdown",
      "source": [
        "### 8.2.1 Series 생성\n",
        "\n",
        "* **pd.Series(딕셔너리형의 리스트)**로 딕셔너리형의 리스트 전달해 Series 생성 가능\n",
        "* **pd.Series(데이터 배열, index=인덱스 배열)**로 데이터 관련 인덱스 지정해 Series 생성 가능\n",
        " + 인덱스 지정하지 않으면 0부터 순서대로 정수 인덱스 붙어\n",
        "* Series 출력하면 'dtype: int64'라고 출력\n",
        " + dtype : data type로, 데이터의 자료형 나타내(int, float, bool ..)"
      ],
      "metadata": {
        "id": "FHYPeT1rH9Bv"
      }
    },
    {
      "cell_type": "code",
      "source": [
        "# Pandas를 pd로 import\n",
        "import pandas as pd\n",
        "\n",
        "# Series 데이터\n",
        "fruits={\"orange\":2, \"banana\":3}\n",
        "print(pd.Series(fruits))"
      ],
      "metadata": {
        "id": "4bGwVnCxIx5h"
      },
      "execution_count": null,
      "outputs": []
    },
    {
      "cell_type": "code",
      "source": [
        "# Pandas를 pd로 import\n",
        "import pandas as pd\n",
        "\n",
        "# Series 데이터\n",
        "index=[\"apple\",\"orange\",\"banana\",\"strawberry\",\"kiwifruit\"]\n",
        "data=[10,5,8,12,3]\n",
        "print(pd.Series(data, index=index))"
      ],
      "metadata": {
        "id": "2kvSpKAqMFPJ"
      },
      "execution_count": null,
      "outputs": []
    },
    {
      "cell_type": "markdown",
      "source": [
        "### 8.2.2 참조\n",
        "\n",
        "* 번호를 지정해 원하는 범위 추출 가능 (인덱스는 0부터 시작해 지정한 번호-1 인덱스까지 추출)\n",
        "* 원하는 요소의 인덱스값을 하나의 리스트로 정리한 뒤 인덱스값 지정해 참조 가능"
      ],
      "metadata": {
        "id": "yXXxONPCMKxW"
      }
    },
    {
      "cell_type": "code",
      "source": [
        "import pandas as pd\n",
        "fruits = {\"banana\":3, \"orange\":4, \"grape\":1, \"peach\":5}\n",
        "series = pd.Series(fruits)\n",
        "print(series[0:2])"
      ],
      "metadata": {
        "colab": {
          "base_uri": "https://localhost:8080/"
        },
        "id": "4wM3H8q2Ml2u",
        "outputId": "d60778a8-e5bf-4d46-cc14-f1a984bcd9c8"
      },
      "execution_count": null,
      "outputs": [
        {
          "output_type": "stream",
          "name": "stdout",
          "text": [
            "banana    3\n",
            "orange    4\n",
            "dtype: int64\n"
          ]
        }
      ]
    },
    {
      "cell_type": "code",
      "source": [
        "print(series[[\"orange\",\"peach\"]])"
      ],
      "metadata": {
        "colab": {
          "base_uri": "https://localhost:8080/"
        },
        "id": "EIz9va4gMxOR",
        "outputId": "4f5a687f-7772-425d-afb8-6b3c6eb86872"
      },
      "execution_count": null,
      "outputs": [
        {
          "output_type": "stream",
          "name": "stdout",
          "text": [
            "orange    4\n",
            "peach     5\n",
            "dtype: int64\n"
          ]
        }
      ]
    },
    {
      "cell_type": "markdown",
      "source": [
        "### 8.2.3 데이터와 인덱스 추출\n",
        "\n",
        "* 데이터값 **series.values**로 참조, 인덱스 **series.index**로 참조"
      ],
      "metadata": {
        "id": "FL1RDR7aNOAc"
      }
    },
    {
      "cell_type": "code",
      "source": [
        "import pandas as pd\n",
        "\n",
        "index=[\"apple\",\"orange\",\"banana\",\"strawberry\",\"kiwifruit\"]\n",
        "data=[10,5,8,12,3]\n",
        "series=pd.Series(data,index=index)\n",
        "\n",
        "print(series.values)\n",
        "print(series.index)"
      ],
      "metadata": {
        "colab": {
          "base_uri": "https://localhost:8080/"
        },
        "id": "-6CFd0QkNanb",
        "outputId": "b6ec5556-cd00-4556-dcb5-ff701c07fb66"
      },
      "execution_count": null,
      "outputs": [
        {
          "output_type": "stream",
          "name": "stdout",
          "text": [
            "[10  5  8 12  3]\n",
            "Index(['apple', 'orange', 'banana', 'strawberry', 'kiwifruit'], dtype='object')\n"
          ]
        }
      ]
    },
    {
      "cell_type": "markdown",
      "source": [
        "### 8.2.4 요소 추가\n",
        "\n",
        "* Series에 요소 추가하려면 해당 요소도 Series형이어야해\n",
        "* 추가할 요소를 Series형으로 반환한 뒤 Series형의 **append()**로 전달해 추가"
      ],
      "metadata": {
        "id": "VOvhJMfsN3Uv"
      }
    },
    {
      "cell_type": "code",
      "source": [
        "fruits={\"banana\":3, \"orange\":2}\n",
        "series = pd.Series(fruits)\n",
        "series = series.append(pd.Series([3], index=[\"grape\"]))"
      ],
      "metadata": {
        "id": "lFqsc0CmOBZa"
      },
      "execution_count": null,
      "outputs": []
    },
    {
      "cell_type": "code",
      "source": [
        "index = [\"apple\",\"orange\",\"banana\",\"strawberry\",\"kiwifruit\"]\n",
        "data=[10,5,8,12,3]\n",
        "series=pd.Series(data,index=index)\n",
        "\n",
        "series = series.append(pd.Series([12],index=[\"pineapple\"]))\n",
        "series = series.append(pd.Series({\"pineapple\":12}))     # 이 방법도 가능\n",
        "print(series)"
      ],
      "metadata": {
        "colab": {
          "base_uri": "https://localhost:8080/"
        },
        "id": "jvgPyq-LOT3C",
        "outputId": "c7ec1497-0fbf-4d35-b770-964ab48bb619"
      },
      "execution_count": null,
      "outputs": [
        {
          "output_type": "stream",
          "name": "stdout",
          "text": [
            "apple         10\n",
            "orange         5\n",
            "banana         8\n",
            "strawberry    12\n",
            "kiwifruit      3\n",
            "pineapple     12\n",
            "pineapple     12\n",
            "dtype: int64\n"
          ]
        }
      ]
    },
    {
      "cell_type": "markdown",
      "source": [
        "### 8.2.5 요소 삭제\n",
        "\n",
        "* Series의 인덱스 참조 **'series.drop(\"인덱스\")'**사용해 해당 인덱스 위치의 요소 삭제"
      ],
      "metadata": {
        "id": "XTDFT5fUPMNU"
      }
    },
    {
      "cell_type": "code",
      "source": [
        "index = [\"apple\",\"orange\",\"banana\",\"strawberry\",\"kiwifruit\"]\n",
        "data=[10,5,8,12,3]\n",
        "series=pd.Series(data,index=index)\n",
        "\n",
        "series = series.drop(\"strawberry\")\n",
        "print(series)"
      ],
      "metadata": {
        "colab": {
          "base_uri": "https://localhost:8080/"
        },
        "id": "27Pvs9soPYhd",
        "outputId": "96c73659-9fed-420b-e173-564dce7b116c"
      },
      "execution_count": null,
      "outputs": [
        {
          "output_type": "stream",
          "name": "stdout",
          "text": [
            "apple        10\n",
            "orange        5\n",
            "banana        8\n",
            "kiwifruit     3\n",
            "dtype: int64\n"
          ]
        }
      ]
    },
    {
      "cell_type": "markdown",
      "source": [
        "### 8.2.6 필터링\n",
        "\n",
        "* bool형의 시퀀스를 지정해 True인 것만 추출 가능\n",
        "* Series(또는 DataFrame)에서 [] 사용하여 조건식 만들어서도 가능"
      ],
      "metadata": {
        "id": "DkkP75YePoDy"
      }
    },
    {
      "cell_type": "code",
      "source": [
        "print(series[series>=5])"
      ],
      "metadata": {
        "colab": {
          "base_uri": "https://localhost:8080/"
        },
        "id": "M7T4AGH1RcD_",
        "outputId": "efea65e0-99a3-4204-9a17-bb877da04208"
      },
      "execution_count": null,
      "outputs": [
        {
          "output_type": "stream",
          "name": "stdout",
          "text": [
            "apple     10\n",
            "orange     5\n",
            "banana     8\n",
            "dtype: int64\n"
          ]
        }
      ]
    },
    {
      "cell_type": "code",
      "source": [
        "# 조건 복수 개 지정하려면 뒤에 [] 덧붙여\n",
        "print(series[series>=5][series<10]) "
      ],
      "metadata": {
        "id": "IbIv3z1vRee2"
      },
      "execution_count": null,
      "outputs": []
    },
    {
      "cell_type": "markdown",
      "source": [
        "### 8.2.7 정렬\n",
        "\n",
        "* 인덱스 정렬은 **series.sort_index()**로, 데이터 정렬은 **series.sort_values()**로 정렬\n",
        " + 인수 지정하지 않으면 오름차순 정렬. 인수에 ascending=False 전달 시 내림차순 정렬"
      ],
      "metadata": {
        "id": "Cw4JE8LhRukW"
      }
    },
    {
      "cell_type": "code",
      "source": [
        "# 인덱스를 알파벳순으로 정렬\n",
        "print(series.sort_index())\n",
        "# 데이터값을 오름차순으로 정렬\n",
        "print(series.sort_values())"
      ],
      "metadata": {
        "colab": {
          "base_uri": "https://localhost:8080/"
        },
        "id": "TAaklu5DSI_a",
        "outputId": "0245038a-e71e-482a-cf7b-cee9890b4783"
      },
      "execution_count": null,
      "outputs": [
        {
          "output_type": "stream",
          "name": "stdout",
          "text": [
            "apple        10\n",
            "banana        8\n",
            "kiwifruit     3\n",
            "orange        5\n",
            "dtype: int64\n",
            "kiwifruit     3\n",
            "orange        5\n",
            "banana        8\n",
            "apple        10\n",
            "dtype: int64\n"
          ]
        }
      ]
    },
    {
      "cell_type": "markdown",
      "source": [
        "## 8.3 DataFrame"
      ],
      "metadata": {
        "id": "ouWbytMhd8F0"
      }
    },
    {
      "cell_type": "markdown",
      "source": [
        "### 8.3.1 DataFrame 생성\n",
        "\n",
        "* **pd.DataFrame()**에 Series 전달하여 생성 가능\n",
        " + 행에는 0부터 오름차순으로 번호 붙어있어\n",
        "* DataFrame의 값으로 딕셔너리형(리스트 포함) 넣어도 돼\n",
        " + 해당 리스트형의 길이는 동일해야해"
      ],
      "metadata": {
        "id": "cQaApTyOSbhy"
      }
    },
    {
      "cell_type": "code",
      "source": [
        "data={\"fruits\":[\"apple\",\"orange\",\"banana\",\"strawberry\",\"kiwifruit\"],\n",
        "      \"year\":[2001,2002,2001,2008,2006],\n",
        "      \"time\":[1,4,5,6,3]}\n",
        "df=pd.DataFrame(data)\n",
        "print(df)"
      ],
      "metadata": {
        "colab": {
          "base_uri": "https://localhost:8080/"
        },
        "id": "lNw01-urTNEV",
        "outputId": "fb675592-0aa1-4a40-cba0-e98e05448fad"
      },
      "execution_count": null,
      "outputs": [
        {
          "output_type": "stream",
          "name": "stdout",
          "text": [
            "       fruits  year  time\n",
            "0       apple  2001     1\n",
            "1      orange  2002     4\n",
            "2      banana  2001     5\n",
            "3  strawberry  2008     6\n",
            "4   kiwifruit  2006     3\n"
          ]
        }
      ]
    },
    {
      "cell_type": "markdown",
      "source": [
        "### 8.3.2 인덱스와 컬럼 설정\n",
        "\n",
        "* 행의 이름 = 인덱스 \n",
        " + **df.index**에 행 수와 같은 길이의 리스트 대입하여 설정\n",
        " + 인수 지정하지 않으면 0부터 오름차순으로 인덱스 할당\n",
        "* 열의 이름 = 컬럼 \n",
        " + **df.columns**에 열 수와 같은 길이의 리스트 대입하여 설정\n",
        " + 원본 데이터 Series의 인덱스 및 딕셔너리형의 키가 돼"
      ],
      "metadata": {
        "id": "1Ez-UvOpTwpG"
      }
    },
    {
      "cell_type": "code",
      "source": [
        "index = [\"apple\",\"orange\",\"banana\",\"strawberry\",\"kiwifruit\"]\n",
        "data1 = [10,5,8,12,3]\n",
        "data2 = [30,25,12,10,8]\n",
        "series1 = pd.Series(data1, index=index)\n",
        "series2 = pd.Series(data2, index=index)\n",
        "df = pd.DataFrame([series1, series2])\n",
        "\n",
        "df.index = [1,2]\n",
        "print(df)"
      ],
      "metadata": {
        "colab": {
          "base_uri": "https://localhost:8080/"
        },
        "id": "insrNGuGWsGU",
        "outputId": "b038cd2a-b0cc-459c-c320-f6b2a075e050"
      },
      "execution_count": null,
      "outputs": [
        {
          "output_type": "stream",
          "name": "stdout",
          "text": [
            "   apple  orange  banana  strawberry  kiwifruit\n",
            "1     10       5       8          12          3\n",
            "2     30      25      12          10          8\n"
          ]
        }
      ]
    },
    {
      "cell_type": "markdown",
      "source": [
        "### 8.3.3 행 추가\n",
        "\n",
        "* **df.append(\"Series형 데이터\", ignore_index=True)** 실행하면 전달된 Series형 데이터의 인덱스가 df의 컬럼에 대응해 새로운 행 추가된 DataFrame 생성돼\n",
        " + df의 컬럼과 추가할 Series형 데이터의 인덱스가 일치하지 않으면 df에 새로운 컬럼 추가. 값이 존재하지 않은 요소는 NaN으로 채워져"
      ],
      "metadata": {
        "id": "-EwIk8BXXPv2"
      }
    },
    {
      "cell_type": "code",
      "source": [
        "data = {\"fruits\":[\"apple\",\"orange\",\"banana\",\"strawberry\",\"kiwifruit\"],\n",
        "        \"time\":[1,4,5,6,3]}\n",
        "df = pd.DataFrame(data)\n",
        "series = pd.Series([\"mango\",2008,7], index=[\"fruits\",\"year\",\"time\"])\n",
        "\n",
        "df = df.append(series, ignore_index=True)\n",
        "print(df)"
      ],
      "metadata": {
        "colab": {
          "base_uri": "https://localhost:8080/"
        },
        "id": "ITMRC6kDZRls",
        "outputId": "98ca1076-4b66-435f-e712-8e1dd71b9192"
      },
      "execution_count": null,
      "outputs": [
        {
          "output_type": "stream",
          "name": "stdout",
          "text": [
            "       fruits  time    year\n",
            "0       apple     1     NaN\n",
            "1      orange     4     NaN\n",
            "2      banana     5     NaN\n",
            "3  strawberry     6     NaN\n",
            "4   kiwifruit     3     NaN\n",
            "5       mango     7  2008.0\n"
          ]
        }
      ]
    },
    {
      "cell_type": "code",
      "source": [
        "index = [\"apple\",\"orange\",\"banana\",\"strawberry\",\"kiwifruit\"]\n",
        "data1 = [10,5,8,12,3]\n",
        "data2 = [30,25,12,10,8]\n",
        "data3 = [30,12,10,8,25,3]\n",
        "series1 = pd.Series(data1, index=index)\n",
        "series2 = pd.Series(data2, index=index)\n",
        "\n",
        "index.append(\"pineapple\")\n",
        "series3 = pd.Series(data3, index=index)\n",
        "df = pd.DataFrame([series1, series2])\n",
        "\n",
        "df = df.append(series3, ignore_index=True)\n",
        "\n",
        "print(df)  # df와 추가할 Series의 인덱스가 일치하지 않을 때의 동작 확인"
      ],
      "metadata": {
        "colab": {
          "base_uri": "https://localhost:8080/"
        },
        "id": "t10pYYpqaYB8",
        "outputId": "5b2d2935-531c-42b5-f2ed-c482e6fe10e4"
      },
      "execution_count": null,
      "outputs": [
        {
          "output_type": "stream",
          "name": "stdout",
          "text": [
            "   apple  orange  banana  strawberry  kiwifruit  pineapple\n",
            "0     10       5       8          12          3        NaN\n",
            "1     30      25      12          10          8        NaN\n",
            "2     30      12      10           8         25        3.0\n"
          ]
        }
      ]
    },
    {
      "cell_type": "markdown",
      "source": [
        "### 8.3.4 열 추가\n",
        "\n",
        "* **df[\"새로운 컬럼\"]'**으로 Series 또는 리스트 대입해 새 열 추가\n",
        " + 리스트 대입하면 첫 행부터 순서대로 요소 할당\n",
        " + Series 대입하면 Series의 인덱스가 df의 인덱스에 대응"
      ],
      "metadata": {
        "id": "AR05r0p7avJx"
      }
    },
    {
      "cell_type": "code",
      "source": [
        "data = {\"fruits\":[\"apple\",\"orange\",\"banana\",\"strawberry\",\"kiwifruit\"],\n",
        "        \"year\":[2001,2002,2001,2008,2006],\n",
        "        \"time\":[1,4,5,6,3]}\n",
        "df = pd.DataFrame(data)\n",
        "\n",
        "df[\"price\"]=[150,120,100,300,150]\n",
        "print(df)"
      ],
      "metadata": {
        "colab": {
          "base_uri": "https://localhost:8080/"
        },
        "id": "_svTZXGybKi8",
        "outputId": "da333312-61d7-419e-cd24-e36cbb3250cf"
      },
      "execution_count": null,
      "outputs": [
        {
          "output_type": "stream",
          "name": "stdout",
          "text": [
            "       fruits  year  time  price\n",
            "0       apple  2001     1    150\n",
            "1      orange  2002     4    120\n",
            "2      banana  2001     5    100\n",
            "3  strawberry  2008     6    300\n",
            "4   kiwifruit  2006     3    150\n"
          ]
        }
      ]
    },
    {
      "cell_type": "markdown",
      "source": [
        "### 8.3.5 데이터 참조\n",
        "\n",
        "loc : 이름으로 참조, iloc : 번호로 참조"
      ],
      "metadata": {
        "id": "ZxDUCxyIesD4"
      }
    },
    {
      "cell_type": "markdown",
      "source": [
        "#### 이름으로 참조\n",
        "\n",
        "이름(인덱스와 컬럼명)으로 참조 -> loc 사용\n",
        "* **df.loc[\"인덱스 리스트\", \"컬럼 리스트\"]**"
      ],
      "metadata": {
        "id": "DhxkNTHtbdJs"
      }
    },
    {
      "cell_type": "code",
      "source": [
        "df = df.loc[[1,2], [\"time\",\"year\"]]\n",
        "print(df)"
      ],
      "metadata": {
        "colab": {
          "base_uri": "https://localhost:8080/"
        },
        "id": "77cDoBVWcTIq",
        "outputId": "1fddfeac-10f3-41ea-ccab-7cc3f7197d0f"
      },
      "execution_count": null,
      "outputs": [
        {
          "output_type": "stream",
          "name": "stdout",
          "text": [
            "       fruits  year  time\n",
            "0       apple  2001     1\n",
            "1      orange  2002     4\n",
            "2      banana  2001     5\n",
            "3  strawberry  2008     6\n",
            "4   kiwifruit  2006     3\n",
            "   time  year\n",
            "1     4  2002\n",
            "2     5  2001\n"
          ]
        }
      ]
    },
    {
      "cell_type": "markdown",
      "source": [
        "#### 번호로 참조\n",
        "\n",
        "번호(인덱스와 컬럼 번호)로 참조 -> iloc 사용\n",
        "\n",
        "* **df.iloc[\"행 번호 리스트\", \"열 번호 리스트\"]**\n",
        " + 행 번호와 열 번호는 0부터 시작"
      ],
      "metadata": {
        "id": "hAD0iLn8e09g"
      }
    },
    {
      "cell_type": "code",
      "source": [
        "df = df.iloc[[1,3],[0,2]]\n",
        "print(df)"
      ],
      "metadata": {
        "colab": {
          "base_uri": "https://localhost:8080/"
        },
        "id": "wmEtcREvfB6B",
        "outputId": "2da7d0ba-6bfa-4a66-fcd0-113f82a3fde0"
      },
      "execution_count": null,
      "outputs": [
        {
          "output_type": "stream",
          "name": "stdout",
          "text": [
            "       fruits  year  time\n",
            "0       apple  2001     1\n",
            "1      orange  2002     4\n",
            "2      banana  2001     5\n",
            "3  strawberry  2008     6\n",
            "4   kiwifruit  2006     3\n",
            "       fruits  time\n",
            "1      orange     4\n",
            "3  strawberry     6\n"
          ]
        }
      ]
    },
    {
      "cell_type": "markdown",
      "source": [
        "### 8.3.6 행 또는 열 삭제\n",
        "\n",
        "* **df.drop()**으로 인덱스 또는 컬럼 지정해 해당 행 또는 열 삭제한 DataFrame 생성 가능\n",
        " + 리스트로 전달해 한꺼번에 삭제 가능\n",
        " + 열 삭제하려면 두 번째 인수로 **axis=1** 전달해야해"
      ],
      "metadata": {
        "id": "8UPV9B3Cgh7y"
      }
    },
    {
      "cell_type": "code",
      "source": [
        "import pandas as pd\n",
        "data={\"fruits\":[\"apple\",\"orange\",\"banana\",\"strawberry\",\"kiwifruit\"],\n",
        "      \"time\":[1,4,5,6,3],\n",
        "      \"year\":[2001,2002,2001,2008,2006]}\n",
        "df=pd.DataFrame(data)\n",
        "\n",
        "df_1 = df.drop(range(0,2))\n",
        "df_2 = df.drop(\"year\",axis=1)\n",
        "\n",
        "print(df_1)\n",
        "print(df_2)"
      ],
      "metadata": {
        "colab": {
          "base_uri": "https://localhost:8080/"
        },
        "id": "PFyUCLVAg7zs",
        "outputId": "c3d7d968-1de3-4b66-ada2-976dfbeb0181"
      },
      "execution_count": null,
      "outputs": [
        {
          "output_type": "stream",
          "name": "stdout",
          "text": [
            "       fruits  time  year\n",
            "2      banana     5  2001\n",
            "3  strawberry     6  2008\n",
            "4   kiwifruit     3  2006\n",
            "       fruits  time\n",
            "0       apple     1\n",
            "1      orange     4\n",
            "2      banana     5\n",
            "3  strawberry     6\n",
            "4   kiwifruit     3\n"
          ]
        }
      ]
    },
    {
      "cell_type": "markdown",
      "source": [
        "### 8.3.7 정렬\n",
        "\n",
        "* **df.sort_values(by=\"컬럼 또는 컬럼 리스트\", ascending=True)** 지정하여 열의 값 오름차순으로 정렬한 DataFrame 생성\n",
        " + ascending=False로 지정하면 내림차순 정렬. 디폴트는 오름차순\n",
        " + 컬럼 리스트에서 순서가 빠른 열 우선적으로 정렬 "
      ],
      "metadata": {
        "id": "JMCIvpP6hnAY"
      }
    },
    {
      "cell_type": "code",
      "source": [
        "import pandas as pd\n",
        "data={\"fruits\":[\"apple\",\"orange\",\"banana\",\"strawberry\",\"kiwifruit\"],\n",
        "      \"time\":[1,4,5,6,3],\n",
        "      \"year\":[2001,2002,2001,2008,2006]}\n",
        "df=pd.DataFrame(data)\n",
        "print(df)\n",
        "\n",
        "# 오름차순 정렬(인수에 컬럼 지정)\n",
        "df = df.sort_values(by=\"year\",ascending=True)     # by 생략 가능\n",
        "print(df)\n",
        "\n",
        "# 오름차순 정렬(인수에 컬럼 리스트 지정)\n",
        "df = df.sort_values(by=[\"time\",\"year\"], ascending=True)\n",
        "print(df)"
      ],
      "metadata": {
        "colab": {
          "base_uri": "https://localhost:8080/"
        },
        "id": "z6QLttamiMsR",
        "outputId": "2292c262-511b-465d-9555-451a82c000eb"
      },
      "execution_count": null,
      "outputs": [
        {
          "output_type": "stream",
          "name": "stdout",
          "text": [
            "       fruits  time  year\n",
            "0       apple     1  2001\n",
            "1      orange     4  2002\n",
            "2      banana     5  2001\n",
            "3  strawberry     6  2008\n",
            "4   kiwifruit     3  2006\n",
            "       fruits  time  year\n",
            "0       apple     1  2001\n",
            "2      banana     5  2001\n",
            "1      orange     4  2002\n",
            "4   kiwifruit     3  2006\n",
            "3  strawberry     6  2008\n",
            "       fruits  time  year\n",
            "0       apple     1  2001\n",
            "4   kiwifruit     3  2006\n",
            "1      orange     4  2002\n",
            "2      banana     5  2001\n",
            "3  strawberry     6  2008\n"
          ]
        }
      ]
    },
    {
      "cell_type": "markdown",
      "source": [
        "### 8.3.8 필터링\n",
        "\n",
        "* bool형의 시퀀스 지정하여 True인 것만 추출 가능\n",
        "* 조건식으로 bool형의 시퀀스 취득 가능"
      ],
      "metadata": {
        "id": "mBLyNmw5jUea"
      }
    },
    {
      "cell_type": "code",
      "source": [
        "data={\"fruits\":[\"apple\",\"orange\",\"banana\",\"strawberry\",\"kiwifruit\"],\n",
        "      \"time\":[1,4,5,6,3],\n",
        "      \"year\":[2001,2002,2001,2008,2006]}\n",
        "df=pd.DataFrame(data)\n",
        "\n",
        "print(df.index%2==0)\n",
        "print(df[df.index%2==0])"
      ],
      "metadata": {
        "colab": {
          "base_uri": "https://localhost:8080/"
        },
        "id": "wjnjtQZDjn7I",
        "outputId": "9234b87c-0f16-4868-f16b-3cf71cb5be7c"
      },
      "execution_count": null,
      "outputs": [
        {
          "output_type": "stream",
          "name": "stdout",
          "text": [
            "[ True False  True False  True]\n",
            "      fruits  time  year\n",
            "0      apple     1  2001\n",
            "2     banana     5  2001\n",
            "4  kiwifruit     3  2006\n"
          ]
        }
      ]
    },
    {
      "cell_type": "markdown",
      "source": [
        "\n",
        "\n",
        "---\n",
        "\n"
      ],
      "metadata": {
        "id": "EoK69OoJkMoB"
      }
    },
    {
      "cell_type": "code",
      "source": [
        "# 연습문제\n",
        "import pandas as pd\n",
        "import numpy as np\n",
        "\n",
        "index=[\"growth\",\"mission\",\"ishikawa\",\"pro\"]\n",
        "data = [50,7,26,1]\n",
        "\n",
        "series = pd.Series(data, index=index)\n",
        "\n",
        "aidemy = series.sort_index()\n",
        "\n",
        "aidemy1 = pd.Series([30],index=[\"tutor\"])\n",
        "aidemy2 = series.append(aidemy1)\n",
        "\n",
        "print(aidemy1)\n",
        "print(aidemy2)\n",
        "\n",
        "df = pd.DataFrame()\n",
        "for index in index:\n",
        "  df[index]=np.random.choice(range(1,11),10)\n",
        "df.index = range(1,11)\n",
        "\n",
        "aidemy3 = df.loc[range(2,6), [\"ishikawa\"]]\n",
        "print(aidemy3)"
      ],
      "metadata": {
        "colab": {
          "base_uri": "https://localhost:8080/"
        },
        "id": "HOt1EWIykN-k",
        "outputId": "cb3f6dc4-1a15-44f7-e1b0-866cf02bb5b7"
      },
      "execution_count": null,
      "outputs": [
        {
          "output_type": "stream",
          "name": "stdout",
          "text": [
            "tutor    30\n",
            "dtype: int64\n",
            "growth      50\n",
            "mission      7\n",
            "ishikawa    26\n",
            "pro          1\n",
            "tutor       30\n",
            "dtype: int64\n",
            "   ishikawa\n",
            "2        10\n",
            "3         3\n",
            "4         3\n",
            "5         5\n"
          ]
        }
      ]
    },
    {
      "cell_type": "markdown",
      "source": [
        "# ch9. Pandas 응용\n",
        "\n",
        "\n",
        "\n",
        "---\n",
        "\n"
      ],
      "metadata": {
        "id": "VJWG6XtKlpZ7"
      }
    },
    {
      "cell_type": "markdown",
      "source": [
        "## 9.1 DataFrame 연결과 결합의 개요\n",
        "\n",
        "DataFrame을 일정 방향으로 붙이는 작업 = 연결\n",
        "\n",
        "특정 Key를 참조하여 연결하는 조작 = 결합"
      ],
      "metadata": {
        "id": "c61EBse-ls5U"
      }
    },
    {
      "cell_type": "markdown",
      "source": [
        "## 9.2 DataFrame 연결"
      ],
      "metadata": {
        "id": "3E3-NlFfkQNQ"
      }
    },
    {
      "cell_type": "markdown",
      "source": [
        "###9.2.1 인덱스나 컬럼이 일치하는 DataFrame 간의 연결\n",
        "\n",
        "* **pandas.concat(\"DataFrame 리스트\", axis=0)**로 세로 연결/ axis=1로 가로연결\n",
        "* 세로방향으로 연결할 때는 동일한 컬럼으로 연결, 가로 방향으로 연결할 때는 동일한 인덱스로 연결 -> 컬럼에 중복된 값이 생길 수도"
      ],
      "metadata": {
        "id": "ur0OeQ6fkTc4"
      }
    },
    {
      "cell_type": "code",
      "source": [
        "import numpy as np\n",
        "import pandas as pd\n",
        "\n",
        "# 지정한 인덱스와 컬럼을 가진 DataFrame을 난수로 생성하는 함수\n",
        "def make_random_df(index, columns, seed):\n",
        "  np.random.seed(seed)\n",
        "  df = pd.DataFrame()\n",
        "  for column in columns:\n",
        "    df[column] = np.random.choice(range(1,101), len(index))\n",
        "  df.index = index\n",
        "  return df\n",
        "\n",
        "# 인덱스와 컬럼 일치하는 DataFrame 만들기\n",
        "columns = [\"apple\",\"orange\",\"banana\"]\n",
        "df_data1 = make_random_df(range(1,5), columns, 0)\n",
        "df_data2 = make_random_df(range(1,5), columns, 1)\n",
        "\n",
        "# df_data1과 df_data2를 세로 연결\n",
        "df1 = pd.concat([df_data1, df_data2],axis=0)\n",
        "\n",
        "# df_data1과 df_data1=2를 가로 연결\n",
        "df2 = pd.concat([df_data1, df_data2],axis=1)\n",
        "\n",
        "print(df1)\n",
        "print(df2)"
      ],
      "metadata": {
        "colab": {
          "base_uri": "https://localhost:8080/"
        },
        "id": "8sKe1ocUlucU",
        "outputId": "282e6ee3-e73e-42da-ee45-00d4f58d7908"
      },
      "execution_count": 1,
      "outputs": [
        {
          "output_type": "stream",
          "name": "stdout",
          "text": [
            "   apple  orange  banana\n",
            "1     45      68      37\n",
            "2     48      10      88\n",
            "3     65      84      71\n",
            "4     68      22      89\n",
            "1     38      76      17\n",
            "2     13       6       2\n",
            "3     73      80      77\n",
            "4     10      65      72\n",
            "   apple  orange  banana  apple  orange  banana\n",
            "1     45      68      37     38      76      17\n",
            "2     48      10      88     13       6       2\n",
            "3     65      84      71     73      80      77\n",
            "4     68      22      89     10      65      72\n"
          ]
        }
      ]
    },
    {
      "cell_type": "markdown",
      "source": [
        "### 9.2.2 인덱스나 컬럼이 일치하지 않는 DataFrame 간의 연결\n",
        "\n",
        "공통의 인덱스나 컬럼이 아닌 행과 열에는 NaN 셀 생성"
      ],
      "metadata": {
        "id": "NWWQueLzneDP"
      }
    },
    {
      "cell_type": "code",
      "source": [
        "import numpy as np\n",
        "import pandas as pd\n",
        "\n",
        "# 지정한 인덱스와 컬럼을 가진 DataFrame을 난수로 생성하는 함수\n",
        "def make_random_df(index, columns, seed):\n",
        "  np.random.seed(seed)\n",
        "  df = pd.DataFrame()\n",
        "  for column in columns:\n",
        "    df[column] = np.random.choice(range(1,101), len(index))\n",
        "  df.index = index\n",
        "  return df\n",
        "\n",
        "columns1 = [\"apple\",\"orange\",\"banana\"]\n",
        "columns2 = [\"orange\",\"kiwifruit\",\"banana\"]\n",
        "\n",
        "# 인덱스가 1,2,3,4고, 컬럼이 columns1인 DataFrame 만들기\n",
        "df_data1 = make_random_df(range(1,5),columns1,0)\n",
        "# 인덱스가 1,3,5,7이고, 컬럼이 columns2인 DataFrame 만들기\n",
        "df_data2 = make_random_df(np.arange(1,8,2),columns2,1)\n",
        "\n",
        "# df_data1과 df_data2를 세로로 연결\n",
        "df1 = pd.concat([df_data1, df_data2],axis=0)\n",
        "# df_data1과 df_data2를 가로로 연결\n",
        "df2 = pd.concat([df_data1, df_data2],axis=1)\n",
        "\n",
        "print(df1)\n",
        "print(df2)"
      ],
      "metadata": {
        "colab": {
          "base_uri": "https://localhost:8080/"
        },
        "id": "AweBt9pUnnVs",
        "outputId": "928d30eb-1b32-4bed-85e8-b8a6d4b9ea93"
      },
      "execution_count": 2,
      "outputs": [
        {
          "output_type": "stream",
          "name": "stdout",
          "text": [
            "   apple  orange  banana  kiwifruit\n",
            "1   45.0      68      37        NaN\n",
            "2   48.0      10      88        NaN\n",
            "3   65.0      84      71        NaN\n",
            "4   68.0      22      89        NaN\n",
            "1    NaN      38      17       76.0\n",
            "3    NaN      13       2        6.0\n",
            "5    NaN      73      77       80.0\n",
            "7    NaN      10      72       65.0\n",
            "   apple  orange  banana  orange  kiwifruit  banana\n",
            "1   45.0    68.0    37.0    38.0       76.0    17.0\n",
            "2   48.0    10.0    88.0     NaN        NaN     NaN\n",
            "3   65.0    84.0    71.0    13.0        6.0     2.0\n",
            "4   68.0    22.0    89.0     NaN        NaN     NaN\n",
            "5    NaN     NaN     NaN    73.0       80.0    77.0\n",
            "7    NaN     NaN     NaN    10.0       65.0    72.0\n"
          ]
        }
      ]
    },
    {
      "cell_type": "markdown",
      "source": [
        "### 9.2.3 연결 시 라벨 지정하기\n",
        "\n",
        "DataFrame끼리 연결하면 라벨 중복되는 경우 -> pd.concat()에 **keys**추가"
      ],
      "metadata": {
        "id": "mOyNA36Cu4B1"
      }
    },
    {
      "cell_type": "code",
      "source": [
        "pd.concat([df_data1,df_data2],axis=1)"
      ],
      "metadata": {
        "colab": {
          "base_uri": "https://localhost:8080/",
          "height": 237
        },
        "id": "-YtlGZfgvPur",
        "outputId": "f66205c3-14ca-4be3-9ab8-8f4416c52818"
      },
      "execution_count": 3,
      "outputs": [
        {
          "output_type": "execute_result",
          "data": {
            "text/plain": [
              "   apple  orange  banana  orange  kiwifruit  banana\n",
              "1   45.0    68.0    37.0    38.0       76.0    17.0\n",
              "2   48.0    10.0    88.0     NaN        NaN     NaN\n",
              "3   65.0    84.0    71.0    13.0        6.0     2.0\n",
              "4   68.0    22.0    89.0     NaN        NaN     NaN\n",
              "5    NaN     NaN     NaN    73.0       80.0    77.0\n",
              "7    NaN     NaN     NaN    10.0       65.0    72.0"
            ],
            "text/html": [
              "\n",
              "  <div id=\"df-8cf986a3-ba4f-4628-985a-00794f4ddcd2\">\n",
              "    <div class=\"colab-df-container\">\n",
              "      <div>\n",
              "<style scoped>\n",
              "    .dataframe tbody tr th:only-of-type {\n",
              "        vertical-align: middle;\n",
              "    }\n",
              "\n",
              "    .dataframe tbody tr th {\n",
              "        vertical-align: top;\n",
              "    }\n",
              "\n",
              "    .dataframe thead th {\n",
              "        text-align: right;\n",
              "    }\n",
              "</style>\n",
              "<table border=\"1\" class=\"dataframe\">\n",
              "  <thead>\n",
              "    <tr style=\"text-align: right;\">\n",
              "      <th></th>\n",
              "      <th>apple</th>\n",
              "      <th>orange</th>\n",
              "      <th>banana</th>\n",
              "      <th>orange</th>\n",
              "      <th>kiwifruit</th>\n",
              "      <th>banana</th>\n",
              "    </tr>\n",
              "  </thead>\n",
              "  <tbody>\n",
              "    <tr>\n",
              "      <th>1</th>\n",
              "      <td>45.0</td>\n",
              "      <td>68.0</td>\n",
              "      <td>37.0</td>\n",
              "      <td>38.0</td>\n",
              "      <td>76.0</td>\n",
              "      <td>17.0</td>\n",
              "    </tr>\n",
              "    <tr>\n",
              "      <th>2</th>\n",
              "      <td>48.0</td>\n",
              "      <td>10.0</td>\n",
              "      <td>88.0</td>\n",
              "      <td>NaN</td>\n",
              "      <td>NaN</td>\n",
              "      <td>NaN</td>\n",
              "    </tr>\n",
              "    <tr>\n",
              "      <th>3</th>\n",
              "      <td>65.0</td>\n",
              "      <td>84.0</td>\n",
              "      <td>71.0</td>\n",
              "      <td>13.0</td>\n",
              "      <td>6.0</td>\n",
              "      <td>2.0</td>\n",
              "    </tr>\n",
              "    <tr>\n",
              "      <th>4</th>\n",
              "      <td>68.0</td>\n",
              "      <td>22.0</td>\n",
              "      <td>89.0</td>\n",
              "      <td>NaN</td>\n",
              "      <td>NaN</td>\n",
              "      <td>NaN</td>\n",
              "    </tr>\n",
              "    <tr>\n",
              "      <th>5</th>\n",
              "      <td>NaN</td>\n",
              "      <td>NaN</td>\n",
              "      <td>NaN</td>\n",
              "      <td>73.0</td>\n",
              "      <td>80.0</td>\n",
              "      <td>77.0</td>\n",
              "    </tr>\n",
              "    <tr>\n",
              "      <th>7</th>\n",
              "      <td>NaN</td>\n",
              "      <td>NaN</td>\n",
              "      <td>NaN</td>\n",
              "      <td>10.0</td>\n",
              "      <td>65.0</td>\n",
              "      <td>72.0</td>\n",
              "    </tr>\n",
              "  </tbody>\n",
              "</table>\n",
              "</div>\n",
              "      <button class=\"colab-df-convert\" onclick=\"convertToInteractive('df-8cf986a3-ba4f-4628-985a-00794f4ddcd2')\"\n",
              "              title=\"Convert this dataframe to an interactive table.\"\n",
              "              style=\"display:none;\">\n",
              "        \n",
              "  <svg xmlns=\"http://www.w3.org/2000/svg\" height=\"24px\"viewBox=\"0 0 24 24\"\n",
              "       width=\"24px\">\n",
              "    <path d=\"M0 0h24v24H0V0z\" fill=\"none\"/>\n",
              "    <path d=\"M18.56 5.44l.94 2.06.94-2.06 2.06-.94-2.06-.94-.94-2.06-.94 2.06-2.06.94zm-11 1L8.5 8.5l.94-2.06 2.06-.94-2.06-.94L8.5 2.5l-.94 2.06-2.06.94zm10 10l.94 2.06.94-2.06 2.06-.94-2.06-.94-.94-2.06-.94 2.06-2.06.94z\"/><path d=\"M17.41 7.96l-1.37-1.37c-.4-.4-.92-.59-1.43-.59-.52 0-1.04.2-1.43.59L10.3 9.45l-7.72 7.72c-.78.78-.78 2.05 0 2.83L4 21.41c.39.39.9.59 1.41.59.51 0 1.02-.2 1.41-.59l7.78-7.78 2.81-2.81c.8-.78.8-2.07 0-2.86zM5.41 20L4 18.59l7.72-7.72 1.47 1.35L5.41 20z\"/>\n",
              "  </svg>\n",
              "      </button>\n",
              "      \n",
              "  <style>\n",
              "    .colab-df-container {\n",
              "      display:flex;\n",
              "      flex-wrap:wrap;\n",
              "      gap: 12px;\n",
              "    }\n",
              "\n",
              "    .colab-df-convert {\n",
              "      background-color: #E8F0FE;\n",
              "      border: none;\n",
              "      border-radius: 50%;\n",
              "      cursor: pointer;\n",
              "      display: none;\n",
              "      fill: #1967D2;\n",
              "      height: 32px;\n",
              "      padding: 0 0 0 0;\n",
              "      width: 32px;\n",
              "    }\n",
              "\n",
              "    .colab-df-convert:hover {\n",
              "      background-color: #E2EBFA;\n",
              "      box-shadow: 0px 1px 2px rgba(60, 64, 67, 0.3), 0px 1px 3px 1px rgba(60, 64, 67, 0.15);\n",
              "      fill: #174EA6;\n",
              "    }\n",
              "\n",
              "    [theme=dark] .colab-df-convert {\n",
              "      background-color: #3B4455;\n",
              "      fill: #D2E3FC;\n",
              "    }\n",
              "\n",
              "    [theme=dark] .colab-df-convert:hover {\n",
              "      background-color: #434B5C;\n",
              "      box-shadow: 0px 1px 3px 1px rgba(0, 0, 0, 0.15);\n",
              "      filter: drop-shadow(0px 1px 2px rgba(0, 0, 0, 0.3));\n",
              "      fill: #FFFFFF;\n",
              "    }\n",
              "  </style>\n",
              "\n",
              "      <script>\n",
              "        const buttonEl =\n",
              "          document.querySelector('#df-8cf986a3-ba4f-4628-985a-00794f4ddcd2 button.colab-df-convert');\n",
              "        buttonEl.style.display =\n",
              "          google.colab.kernel.accessAllowed ? 'block' : 'none';\n",
              "\n",
              "        async function convertToInteractive(key) {\n",
              "          const element = document.querySelector('#df-8cf986a3-ba4f-4628-985a-00794f4ddcd2');\n",
              "          const dataTable =\n",
              "            await google.colab.kernel.invokeFunction('convertToInteractive',\n",
              "                                                     [key], {});\n",
              "          if (!dataTable) return;\n",
              "\n",
              "          const docLinkHtml = 'Like what you see? Visit the ' +\n",
              "            '<a target=\"_blank\" href=https://colab.research.google.com/notebooks/data_table.ipynb>data table notebook</a>'\n",
              "            + ' to learn more about interactive tables.';\n",
              "          element.innerHTML = '';\n",
              "          dataTable['output_type'] = 'display_data';\n",
              "          await google.colab.output.renderOutput(dataTable, element);\n",
              "          const docLink = document.createElement('div');\n",
              "          docLink.innerHTML = docLinkHtml;\n",
              "          element.appendChild(docLink);\n",
              "        }\n",
              "      </script>\n",
              "    </div>\n",
              "  </div>\n",
              "  "
            ]
          },
          "metadata": {},
          "execution_count": 3
        }
      ]
    },
    {
      "cell_type": "code",
      "source": [
        "pd.concat([df_data1,df_data2],axis=1,keys=[\"X\",\"Y\"])"
      ],
      "metadata": {
        "colab": {
          "base_uri": "https://localhost:8080/",
          "height": 269
        },
        "id": "_2uAu5QevWcU",
        "outputId": "8dbbdc10-082f-4bdd-b0a1-09ee6ad7e99a"
      },
      "execution_count": 4,
      "outputs": [
        {
          "output_type": "execute_result",
          "data": {
            "text/plain": [
              "      X                    Y                 \n",
              "  apple orange banana orange kiwifruit banana\n",
              "1  45.0   68.0   37.0   38.0      76.0   17.0\n",
              "2  48.0   10.0   88.0    NaN       NaN    NaN\n",
              "3  65.0   84.0   71.0   13.0       6.0    2.0\n",
              "4  68.0   22.0   89.0    NaN       NaN    NaN\n",
              "5   NaN    NaN    NaN   73.0      80.0   77.0\n",
              "7   NaN    NaN    NaN   10.0      65.0   72.0"
            ],
            "text/html": [
              "\n",
              "  <div id=\"df-5bd8beeb-1ac6-4717-bb4a-8829ded2a3af\">\n",
              "    <div class=\"colab-df-container\">\n",
              "      <div>\n",
              "<style scoped>\n",
              "    .dataframe tbody tr th:only-of-type {\n",
              "        vertical-align: middle;\n",
              "    }\n",
              "\n",
              "    .dataframe tbody tr th {\n",
              "        vertical-align: top;\n",
              "    }\n",
              "\n",
              "    .dataframe thead tr th {\n",
              "        text-align: left;\n",
              "    }\n",
              "</style>\n",
              "<table border=\"1\" class=\"dataframe\">\n",
              "  <thead>\n",
              "    <tr>\n",
              "      <th></th>\n",
              "      <th colspan=\"3\" halign=\"left\">X</th>\n",
              "      <th colspan=\"3\" halign=\"left\">Y</th>\n",
              "    </tr>\n",
              "    <tr>\n",
              "      <th></th>\n",
              "      <th>apple</th>\n",
              "      <th>orange</th>\n",
              "      <th>banana</th>\n",
              "      <th>orange</th>\n",
              "      <th>kiwifruit</th>\n",
              "      <th>banana</th>\n",
              "    </tr>\n",
              "  </thead>\n",
              "  <tbody>\n",
              "    <tr>\n",
              "      <th>1</th>\n",
              "      <td>45.0</td>\n",
              "      <td>68.0</td>\n",
              "      <td>37.0</td>\n",
              "      <td>38.0</td>\n",
              "      <td>76.0</td>\n",
              "      <td>17.0</td>\n",
              "    </tr>\n",
              "    <tr>\n",
              "      <th>2</th>\n",
              "      <td>48.0</td>\n",
              "      <td>10.0</td>\n",
              "      <td>88.0</td>\n",
              "      <td>NaN</td>\n",
              "      <td>NaN</td>\n",
              "      <td>NaN</td>\n",
              "    </tr>\n",
              "    <tr>\n",
              "      <th>3</th>\n",
              "      <td>65.0</td>\n",
              "      <td>84.0</td>\n",
              "      <td>71.0</td>\n",
              "      <td>13.0</td>\n",
              "      <td>6.0</td>\n",
              "      <td>2.0</td>\n",
              "    </tr>\n",
              "    <tr>\n",
              "      <th>4</th>\n",
              "      <td>68.0</td>\n",
              "      <td>22.0</td>\n",
              "      <td>89.0</td>\n",
              "      <td>NaN</td>\n",
              "      <td>NaN</td>\n",
              "      <td>NaN</td>\n",
              "    </tr>\n",
              "    <tr>\n",
              "      <th>5</th>\n",
              "      <td>NaN</td>\n",
              "      <td>NaN</td>\n",
              "      <td>NaN</td>\n",
              "      <td>73.0</td>\n",
              "      <td>80.0</td>\n",
              "      <td>77.0</td>\n",
              "    </tr>\n",
              "    <tr>\n",
              "      <th>7</th>\n",
              "      <td>NaN</td>\n",
              "      <td>NaN</td>\n",
              "      <td>NaN</td>\n",
              "      <td>10.0</td>\n",
              "      <td>65.0</td>\n",
              "      <td>72.0</td>\n",
              "    </tr>\n",
              "  </tbody>\n",
              "</table>\n",
              "</div>\n",
              "      <button class=\"colab-df-convert\" onclick=\"convertToInteractive('df-5bd8beeb-1ac6-4717-bb4a-8829ded2a3af')\"\n",
              "              title=\"Convert this dataframe to an interactive table.\"\n",
              "              style=\"display:none;\">\n",
              "        \n",
              "  <svg xmlns=\"http://www.w3.org/2000/svg\" height=\"24px\"viewBox=\"0 0 24 24\"\n",
              "       width=\"24px\">\n",
              "    <path d=\"M0 0h24v24H0V0z\" fill=\"none\"/>\n",
              "    <path d=\"M18.56 5.44l.94 2.06.94-2.06 2.06-.94-2.06-.94-.94-2.06-.94 2.06-2.06.94zm-11 1L8.5 8.5l.94-2.06 2.06-.94-2.06-.94L8.5 2.5l-.94 2.06-2.06.94zm10 10l.94 2.06.94-2.06 2.06-.94-2.06-.94-.94-2.06-.94 2.06-2.06.94z\"/><path d=\"M17.41 7.96l-1.37-1.37c-.4-.4-.92-.59-1.43-.59-.52 0-1.04.2-1.43.59L10.3 9.45l-7.72 7.72c-.78.78-.78 2.05 0 2.83L4 21.41c.39.39.9.59 1.41.59.51 0 1.02-.2 1.41-.59l7.78-7.78 2.81-2.81c.8-.78.8-2.07 0-2.86zM5.41 20L4 18.59l7.72-7.72 1.47 1.35L5.41 20z\"/>\n",
              "  </svg>\n",
              "      </button>\n",
              "      \n",
              "  <style>\n",
              "    .colab-df-container {\n",
              "      display:flex;\n",
              "      flex-wrap:wrap;\n",
              "      gap: 12px;\n",
              "    }\n",
              "\n",
              "    .colab-df-convert {\n",
              "      background-color: #E8F0FE;\n",
              "      border: none;\n",
              "      border-radius: 50%;\n",
              "      cursor: pointer;\n",
              "      display: none;\n",
              "      fill: #1967D2;\n",
              "      height: 32px;\n",
              "      padding: 0 0 0 0;\n",
              "      width: 32px;\n",
              "    }\n",
              "\n",
              "    .colab-df-convert:hover {\n",
              "      background-color: #E2EBFA;\n",
              "      box-shadow: 0px 1px 2px rgba(60, 64, 67, 0.3), 0px 1px 3px 1px rgba(60, 64, 67, 0.15);\n",
              "      fill: #174EA6;\n",
              "    }\n",
              "\n",
              "    [theme=dark] .colab-df-convert {\n",
              "      background-color: #3B4455;\n",
              "      fill: #D2E3FC;\n",
              "    }\n",
              "\n",
              "    [theme=dark] .colab-df-convert:hover {\n",
              "      background-color: #434B5C;\n",
              "      box-shadow: 0px 1px 3px 1px rgba(0, 0, 0, 0.15);\n",
              "      filter: drop-shadow(0px 1px 2px rgba(0, 0, 0, 0.3));\n",
              "      fill: #FFFFFF;\n",
              "    }\n",
              "  </style>\n",
              "\n",
              "      <script>\n",
              "        const buttonEl =\n",
              "          document.querySelector('#df-5bd8beeb-1ac6-4717-bb4a-8829ded2a3af button.colab-df-convert');\n",
              "        buttonEl.style.display =\n",
              "          google.colab.kernel.accessAllowed ? 'block' : 'none';\n",
              "\n",
              "        async function convertToInteractive(key) {\n",
              "          const element = document.querySelector('#df-5bd8beeb-1ac6-4717-bb4a-8829ded2a3af');\n",
              "          const dataTable =\n",
              "            await google.colab.kernel.invokeFunction('convertToInteractive',\n",
              "                                                     [key], {});\n",
              "          if (!dataTable) return;\n",
              "\n",
              "          const docLinkHtml = 'Like what you see? Visit the ' +\n",
              "            '<a target=\"_blank\" href=https://colab.research.google.com/notebooks/data_table.ipynb>data table notebook</a>'\n",
              "            + ' to learn more about interactive tables.';\n",
              "          element.innerHTML = '';\n",
              "          dataTable['output_type'] = 'display_data';\n",
              "          await google.colab.output.renderOutput(dataTable, element);\n",
              "          const docLink = document.createElement('div');\n",
              "          docLink.innerHTML = docLinkHtml;\n",
              "          element.appendChild(docLink);\n",
              "        }\n",
              "      </script>\n",
              "    </div>\n",
              "  </div>\n",
              "  "
            ]
          },
          "metadata": {},
          "execution_count": 4
        }
      ]
    },
    {
      "cell_type": "markdown",
      "source": [
        "## 9.3 DataFrame 결합"
      ],
      "metadata": {
        "id": "bGHmtdWSvu_K"
      }
    },
    {
      "cell_type": "markdown",
      "source": [
        "### 9.3.1 결합 유형\n",
        "\n",
        "결합(병합) -> Key로 불리는 열 지정하고, 두 데이터베이스의 Key 값이 일치하는 행을 옆으로 연결\n",
        "\n",
        "* 내부 결합 - Key열이 공통되지 않는 행은 삭제. 공통되는 것만 남는다\n",
        "* 외부 결합 - Key열이 공통되지 않아도 행이 삭제되지 않고 남는다. 공통되지 않은 열에는 Nan 셀 생성"
      ],
      "metadata": {
        "id": "Bab_8KdnvygN"
      }
    },
    {
      "cell_type": "markdown",
      "source": [
        "### 9.3.2 내부 결합의 기본\n",
        "\n",
        "**pd.merge(df1,df2,on=Key가 될 컬럼,how=\"inner\")**\n",
        "\n",
        "* Key열의 값이 일치하지 않는 행은 삭제\n",
        "* Key가 아니면서 이름이 같은 열은 접미사 붙어\n",
        "   + 왼쪽 DataFrame의 컬럼에는 _x가, 오른쪽 DataFrame의 컬럼에는 _y가 접미사로."
      ],
      "metadata": {
        "id": "0p7UPnWOwjHD"
      }
    },
    {
      "cell_type": "code",
      "source": [
        "data1 = {\"fruits\":[\"apple\",\"orange\",\"banana\",\"strawberry\",\"kiwifruit\"],\n",
        "         \"year\":[2001,2002,2001,2008,2006],\n",
        "         \"amount\":[1,4,5,6,3]}\n",
        "df1 = pd.DataFrame(data1)\n",
        "\n",
        "data2 = {\"fruits\":[\"apple\",\"orange\",\"banana\",\"strawberry\",\"mango\"],\n",
        "         \"year\":[2001,2002,2001,2008,2007],\n",
        "         \"price\":[150,120,100,250,3000]}\n",
        "df2 = pd.DataFrame(data2)\n",
        "\n",
        "print(df1)\n",
        "print(df2)\n",
        "\n",
        "df3 = pd.merge(df1,df2,on=\"fruits\",how=\"inner\")\n",
        "print(df3)"
      ],
      "metadata": {
        "colab": {
          "base_uri": "https://localhost:8080/"
        },
        "id": "3CCVT1YDxLcN",
        "outputId": "e35d8a00-659a-4d33-bd05-37a4afc79dff"
      },
      "execution_count": 5,
      "outputs": [
        {
          "output_type": "stream",
          "name": "stdout",
          "text": [
            "       fruits  year  amount\n",
            "0       apple  2001       1\n",
            "1      orange  2002       4\n",
            "2      banana  2001       5\n",
            "3  strawberry  2008       6\n",
            "4   kiwifruit  2006       3\n",
            "       fruits  year  price\n",
            "0       apple  2001    150\n",
            "1      orange  2002    120\n",
            "2      banana  2001    100\n",
            "3  strawberry  2008    250\n",
            "4       mango  2007   3000\n",
            "       fruits  year_x  amount  year_y  price\n",
            "0       apple    2001       1    2001    150\n",
            "1      orange    2002       4    2002    120\n",
            "2      banana    2001       5    2001    100\n",
            "3  strawberry    2008       6    2008    250\n"
          ]
        }
      ]
    },
    {
      "cell_type": "markdown",
      "source": [
        "### 9.3.3 외부 결합의 기본\n",
        "\n",
        "**pd.merge(df1,df2,on=Key가 될 컬럼,how=\"outer\")**\n",
        "\n",
        "* Key열의 값이 일치하지 않는 행은 삭제되지 않고 남겨져 NaN으로 채워진 열 생성\n",
        "* Key가 아니면서 이름이 같은 열은 접미사 붙어\n",
        "   + 왼쪽 DataFrame의 컬럼에는 _x가, 오른쪽 DataFrame의 컬럼에는 _y가 접미사로."
      ],
      "metadata": {
        "id": "qZ8fMebqx48v"
      }
    },
    {
      "cell_type": "code",
      "source": [
        "df3 = pd.merge(df1,df2,on=\"fruits\",how=\"outer\")\n",
        "print(df3)"
      ],
      "metadata": {
        "colab": {
          "base_uri": "https://localhost:8080/"
        },
        "id": "z0HXiImTyOWm",
        "outputId": "c2bbe4a6-b143-4850-987e-582e7530c4ff"
      },
      "execution_count": 6,
      "outputs": [
        {
          "output_type": "stream",
          "name": "stdout",
          "text": [
            "       fruits  year_x  amount  year_y   price\n",
            "0       apple  2001.0     1.0  2001.0   150.0\n",
            "1      orange  2002.0     4.0  2002.0   120.0\n",
            "2      banana  2001.0     5.0  2001.0   100.0\n",
            "3  strawberry  2008.0     6.0  2008.0   250.0\n",
            "4   kiwifruit  2006.0     3.0     NaN     NaN\n",
            "5       mango     NaN     NaN  2007.0  3000.0\n"
          ]
        }
      ]
    },
    {
      "cell_type": "markdown",
      "source": [
        "### 9.3.4 이름이 다른 열을 Key로 결합하기\n",
        "\n",
        "customer_id, id처럼 대응하는 컬럼명이 일치하지 않는 경우 -> 각 컬럼 별도로 지정\n",
        "\n",
        "**pd.merge(왼쪽 DF, 오른쪽 DF, left_on=\"왼쪽 DF의 컬럼\", right_on=\"오른쪽 DF의 컬럼\", how=\"결합 방식\")**"
      ],
      "metadata": {
        "id": "V9izj-gSyVNs"
      }
    },
    {
      "cell_type": "code",
      "source": [
        "import pandas as pd\n",
        "\n",
        "order_df = pd.DataFrame([[1000,2546,103],\n",
        "                         [1001,4352,102],\n",
        "                         [1002,342,101]],\n",
        "                        columns=[\"id\",\"item_id\",\"customer_id\"])\n",
        "customer_df = pd.DataFrame([[101,\"광수\"],\n",
        "                           [102,\"민호\"],\n",
        "                           [103,\"소희\"]],\n",
        "                          columns=[\"id\",\"name\"])\n",
        "\n",
        "order_df = pd.merge(order_df, customer_df, left_on=\"customer_id\",right_on=\"id\",how=\"inner\")\n",
        "print(order_df)"
      ],
      "metadata": {
        "colab": {
          "base_uri": "https://localhost:8080/"
        },
        "id": "OmlE2zx8y1I5",
        "outputId": "73261bb1-6149-41f8-ab99-bc83217ca764"
      },
      "execution_count": 11,
      "outputs": [
        {
          "output_type": "stream",
          "name": "stdout",
          "text": [
            "   id_x  item_id  customer_id  id_y name\n",
            "0  1000     2546          103   103   소희\n",
            "1  1001     4352          102   102   민호\n",
            "2  1002      342          101   101   광수\n"
          ]
        }
      ]
    },
    {
      "cell_type": "markdown",
      "source": [
        "### 9.3.5 인덱스를 Key로 결합하기\n",
        "\n",
        "결합에 사용하는 Key가 인덱스인 경우 -> left_on, right_on 대신 **left_index=True, right_index=True**로 지정"
      ],
      "metadata": {
        "id": "xXOuoiTAz0DN"
      }
    },
    {
      "cell_type": "code",
      "source": [
        "order_df = pd.DataFrame([[1000,2546,103],\n",
        "                         [1001,4352,102],\n",
        "                         [1002,342,101]],\n",
        "                        columns=[\"id\",\"item_id\",\"customer_id\"])\n",
        "customer_df = pd.DataFrame([[\"광수\"],\n",
        "                           [\"민호\"],\n",
        "                           [\"소희\"]],\n",
        "                          columns=[\"name\"])\n",
        "customer_df.index=[101,102,103]\n",
        "\n",
        "order_df = pd.merge(order_df, customer_df, left_on=\"customer_id\",right_index=True, how=\"inner\")\n",
        "print(order_df)"
      ],
      "metadata": {
        "colab": {
          "base_uri": "https://localhost:8080/"
        },
        "id": "RtkkRZeA0F17",
        "outputId": "c2b39651-5b0f-42fe-c7ea-5b3b0e070dff"
      },
      "execution_count": 12,
      "outputs": [
        {
          "output_type": "stream",
          "name": "stdout",
          "text": [
            "     id  item_id  customer_id name\n",
            "0  1000     2546          103   소희\n",
            "1  1001     4352          102   민호\n",
            "2  1002      342          101   광수\n"
          ]
        }
      ]
    },
    {
      "cell_type": "markdown",
      "source": [
        "## 9.4 DataFrame을 이용한 데이터 분석"
      ],
      "metadata": {
        "id": "OR-__ypv1TNw"
      }
    },
    {
      "cell_type": "markdown",
      "source": [
        "### 9.4.1 특정 행 얻기\n",
        "\n",
        "전부 출력하는 것은 어려워 -> **df.head()**는 첫 5행만 담긴 DataFrame 반환/**df.tail()**은 끝 5행만 담긴 DataFrame 반환\n",
        "\n",
        "+) 인수로 정숫값 지정 가능"
      ],
      "metadata": {
        "id": "c6zU4EVY1V25"
      }
    },
    {
      "cell_type": "markdown",
      "source": [
        "### 9.4.2 계산 처리하기\n",
        "\n",
        "Pandas와 Numpy는 유연한 데이터 전달 가능"
      ],
      "metadata": {
        "id": "JqF8dCjf1tsu"
      }
    },
    {
      "cell_type": "markdown",
      "source": [
        "### 9.4.3 통계 정보 얻기\n",
        "\n",
        "**df.describe()** : 컬럼당 데이터 수, 평균값, 표준편차, 최솟값, 사분위수(25%,50%,75%), 최댓값 정보 포함하는 DataFrame 반환"
      ],
      "metadata": {
        "id": "KD3_54yX2e1k"
      }
    },
    {
      "cell_type": "markdown",
      "source": [
        "### 9.4.4 DataFrame의 행간 차이와 열간 차이 구하기\n",
        "\n",
        "행간 차이 구하는 작업은 시계열 분석에서 자주 이용\n",
        "\n",
        "**df.diff(\"행 간격 또는 열 간격\", axis=\"방향\")**\n",
        "\n",
        "* 첫 번째 인수가 양수이면 이전 행과의 차이를, 음수면 다음 행과의 차이 구해\n",
        "* axis=0이면 행의 방향, 1인 경우에는 열의 방향"
      ],
      "metadata": {
        "id": "diMWBT6-22qt"
      }
    },
    {
      "cell_type": "code",
      "source": [
        "np.random.seed(0)\n",
        "columns=[\"apple\",\"orange\",\"banana\",\"strawberry\",\"kiwifruit\"]\n",
        "\n",
        "# DataFrame 생성\n",
        "df = pd.DataFrame()\n",
        "for column in columns:\n",
        "  df[column]=np.random.choice(range(1,11),10)\n",
        "df.index=range(1,11)\n",
        "\n",
        "# df의 각 행에 대해 2행 뒤와의 차이 계산한 DataFrame\n",
        "df_diff = df.diff(-2, axis=0)\n",
        "\n",
        "print(df)\n",
        "print(df_diff)"
      ],
      "metadata": {
        "colab": {
          "base_uri": "https://localhost:8080/"
        },
        "id": "YKbf0KnU3n6g",
        "outputId": "8ec6df79-1717-4f8b-e8c4-8fbb1a7c8933"
      },
      "execution_count": 13,
      "outputs": [
        {
          "output_type": "stream",
          "name": "stdout",
          "text": [
            "    apple  orange  banana  strawberry  kiwifruit\n",
            "1       6       8       6           3         10\n",
            "2       1       7      10           4         10\n",
            "3       4       9       9           9          1\n",
            "4       4       9      10           2          5\n",
            "5       8       2       5           4          8\n",
            "6      10       7       4           4          4\n",
            "7       4       8       1           4          3\n",
            "8       6       8       4           8          8\n",
            "9       3       9       6           1          3\n",
            "10      5       2       1           2          1\n",
            "    apple  orange  banana  strawberry  kiwifruit\n",
            "1     2.0    -1.0    -3.0        -6.0        9.0\n",
            "2    -3.0    -2.0     0.0         2.0        5.0\n",
            "3    -4.0     7.0     4.0         5.0       -7.0\n",
            "4    -6.0     2.0     6.0        -2.0        1.0\n",
            "5     4.0    -6.0     4.0         0.0        5.0\n",
            "6     4.0    -1.0     0.0        -4.0       -4.0\n",
            "7     1.0    -1.0    -5.0         3.0        0.0\n",
            "8     1.0     6.0     3.0         6.0        7.0\n",
            "9     NaN     NaN     NaN         NaN        NaN\n",
            "10    NaN     NaN     NaN         NaN        NaN\n"
          ]
        }
      ]
    },
    {
      "cell_type": "markdown",
      "source": [
        "### 9.4.5 그룹화\n",
        "\n",
        "그룹화 : 특정 열에서 동일한 값의 행을 집계하는 것\n",
        "\n",
        "**df.groupby(\"컬럼\")**으로 지정한 컬럼 그룹화 가능\n",
        "\n",
        "* GroupBy 객체는 반환하지만 그룹화된 결과는 표시 x -> 표시하려면 통계함수 사용"
      ],
      "metadata": {
        "id": "pr3jNL7U4IKL"
      }
    },
    {
      "cell_type": "code",
      "source": [
        "# DataFrame 만들기\n",
        "prefecture_df = pd.DataFrame([[\"강릉\",1040,213527,\"강원도\"],\n",
        "                              [\"광주\",430,1458915,\"전라도\"],\n",
        "                              [\"평창\",1463,42218,\"강원도\"],\n",
        "                              [\"대전\",539,1476955,\"충청도\"],\n",
        "                              [\"단양\",780,29816,\"충청도\"]],\n",
        "                             columns=[\"Prefecture\",\"Area\",\"Population\",\"Region\"])\n",
        "print(prefecture_df)\n",
        "\n",
        "grouped_region = prefecture_df.groupby(\"Region\")\n",
        "mean_df = grouped_region.mean()\n",
        "print(mean_df)"
      ],
      "metadata": {
        "colab": {
          "base_uri": "https://localhost:8080/"
        },
        "id": "-rmXcaIj4h_U",
        "outputId": "ba5bf516-1292-44d8-dcbf-6c4c336979dc"
      },
      "execution_count": 15,
      "outputs": [
        {
          "output_type": "stream",
          "name": "stdout",
          "text": [
            "  Prefecture  Area  Population Region\n",
            "0         강릉  1040      213527    강원도\n",
            "1         광주   430     1458915    전라도\n",
            "2         평창  1463       42218    강원도\n",
            "3         대전   539     1476955    충청도\n",
            "4         단양   780       29816    충청도\n",
            "          Area  Population\n",
            "Region                    \n",
            "강원도     1251.5    127872.5\n",
            "전라도      430.0   1458915.0\n",
            "충청도      659.5    753385.5\n"
          ]
        }
      ]
    },
    {
      "cell_type": "markdown",
      "source": [
        "\n",
        "\n",
        "---\n",
        "\n"
      ],
      "metadata": {
        "id": "vdszujSQ5ad9"
      }
    },
    {
      "cell_type": "code",
      "source": [
        "# 연습문제\n",
        "df1 = pd.DataFrame([[\"apple\",\"Fruit\",120],\n",
        "                    [\"orange\",\"Fruit\",60],\n",
        "                    [\"banana\",\"Fruit\",100],\n",
        "                    [\"pumpkin\",\"Vegetable\",150],\n",
        "                    [\"potato\",\"Vegetable\",80]],\n",
        "                   columns=[\"Name\",\"Type\",\"Price\"])\n",
        "df2 = pd.DataFrame([[\"onion\",\"Vegetable\",60],\n",
        "                    [\"carrot\",\"Vegetable\",50],\n",
        "                    [\"beans\",\"Vegetable\",100],\n",
        "                    [\"grape\",\"Fruit\",160],\n",
        "                    [\"kiwifruit\",\"Fruit\",80]],\n",
        "                   columns=[\"Name\",\"Type\",\"Price\"])\n",
        "\n",
        "# df1과 df2를 세로로 결합\n",
        "df3 = pd.concat([df1,df2],axis=0)\n",
        "\n",
        "# 야채와 과일을 각각 추출하여 \"Price\"로 정렬\n",
        "df_fruit = df3.loc[df3[\"Type\"]==\"Fruit\"]\n",
        "df_fruit = df_fruit.sort_values(by=\"Price\")\n",
        "\n",
        "df_veg = df3.loc[df3[\"Type\"]==\"Vegetable\"]\n",
        "df_veg = df_veg.sort_values(by=\"Price\")\n",
        "\n",
        "# 과일과 야채의 상위 세 요소의 Price 합 각각 계산\n",
        "print(sum(df_fruit[:3][\"Price\"]) + sum(df_veg[:3][\"Price\"]))"
      ],
      "metadata": {
        "colab": {
          "base_uri": "https://localhost:8080/"
        },
        "id": "SI-sSQXi5bH9",
        "outputId": "8f323155-9350-4988-a591-7357f0c10615"
      },
      "execution_count": 16,
      "outputs": [
        {
          "output_type": "stream",
          "name": "stdout",
          "text": [
            "430\n"
          ]
        }
      ]
    },
    {
      "cell_type": "code",
      "source": [
        "# 종합문제\n",
        "\n",
        "index = [\"광수\",\"민호\",\"소희\",\"태양\",\"영희\"]\n",
        "columns = [\"국어\",\"수학\",\"사회\",\"과학\",\"영어\"]\n",
        "data = [[30,45,12,45,87],[65,47,83,17,58],[64,63,86,57,46],[38,47,62,91,63],[65,36,85,94,36]]\n",
        "df = pd.DataFrame(data, index=index, columns=columns)\n",
        "\n",
        "# df에 \"체육\"이라는 새 열 만들고 pe_column의 데이터 추가\n",
        "pe_column = pd.Series([56,43,73,82,62],index=[\"광수\",\"민호\",\"소희\",\"태양\",\"영희\"])\n",
        "df[\"체육\"]=pe_column\n",
        "print(df)\n",
        "\n",
        "# 수학을 오름차순으로 정렬\n",
        "df1 = df.sort_values(by=\"수학\", ascending=True)\n",
        "print(df1)\n",
        "\n",
        "# df1의 각 요소에 5점 더하기\n",
        "df2 = df1 + 5 \n",
        "print(df2)\n",
        "\n",
        "# df의 통계 정보 중에서 \"mean\",\"max\",\"min\" 출력\n",
        "print(df2.describe().loc[[\"mean\",\"max\",\"min\"]])"
      ],
      "metadata": {
        "colab": {
          "base_uri": "https://localhost:8080/"
        },
        "id": "8YzyqAX-67Hp",
        "outputId": "d77cb7dd-1837-4027-d444-7699a8cd87ff"
      },
      "execution_count": 17,
      "outputs": [
        {
          "output_type": "stream",
          "name": "stdout",
          "text": [
            "    국어  수학  사회  과학  영어  체육\n",
            "광수  30  45  12  45  87  56\n",
            "민호  65  47  83  17  58  43\n",
            "소희  64  63  86  57  46  73\n",
            "태양  38  47  62  91  63  82\n",
            "영희  65  36  85  94  36  62\n",
            "    국어  수학  사회  과학  영어  체육\n",
            "영희  65  36  85  94  36  62\n",
            "광수  30  45  12  45  87  56\n",
            "민호  65  47  83  17  58  43\n",
            "태양  38  47  62  91  63  82\n",
            "소희  64  63  86  57  46  73\n",
            "    국어  수학  사회  과학  영어  체육\n",
            "영희  70  41  90  99  41  67\n",
            "광수  35  50  17  50  92  61\n",
            "민호  70  52  88  22  63  48\n",
            "태양  43  52  67  96  68  87\n",
            "소희  69  68  91  62  51  78\n",
            "        국어    수학    사회    과학    영어    체육\n",
            "mean  57.4  52.6  70.6  65.8  63.0  68.2\n",
            "max   70.0  68.0  91.0  99.0  92.0  87.0\n",
            "min   35.0  41.0  17.0  22.0  41.0  48.0\n"
          ]
        }
      ]
    }
  ]
}