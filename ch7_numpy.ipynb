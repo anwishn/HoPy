{
  "nbformat": 4,
  "nbformat_minor": 0,
  "metadata": {
    "colab": {
      "provenance": [],
      "collapsed_sections": [],
      "authorship_tag": "ABX9TyNc5Dvf1b/fBJ78SFB0Wiod",
      "include_colab_link": true
    },
    "kernelspec": {
      "name": "python3",
      "display_name": "Python 3"
    },
    "language_info": {
      "name": "python"
    }
  },
  "cells": [
    {
      "cell_type": "markdown",
      "metadata": {
        "id": "view-in-github",
        "colab_type": "text"
      },
      "source": [
        "<a href=\"https://colab.research.google.com/github/anwishn/HoPy/blob/main/ch7_numpy.ipynb\" target=\"_parent\"><img src=\"https://colab.research.google.com/assets/colab-badge.svg\" alt=\"Open In Colab\"/></a>"
      ]
    },
    {
      "cell_type": "markdown",
      "source": [
        "파이썬으로 배우는 딥러닝 교과서 ch 7"
      ],
      "metadata": {
        "id": "MSjlaRHw23FU"
      }
    },
    {
      "cell_type": "markdown",
      "source": [
        "# ch7. Numpy\n",
        "\n",
        "\n",
        "---\n",
        "\n"
      ],
      "metadata": {
        "id": "bOhD0kW2dqVH"
      }
    },
    {
      "cell_type": "markdown",
      "source": [
        "## 7.1 Numpy 개요\n",
        "\n",
        "### 7.1.1 Numpy가 하는 일\n",
        "\n",
        "**Numpy(넘파이)**: 파이썬으로 벡터나 행렬 계산을 빠르게 하도록 특화된 기본 라이브러리"
      ],
      "metadata": {
        "id": "qBAkBAXGfL8T"
      }
    },
    {
      "cell_type": "markdown",
      "source": [
        "## 7.2 Numpy 1차원 배열\n",
        "\n",
        "### 7.2.1 import \n",
        "\n",
        "import numpy -> 'numpy.모듈명' 형태로 사용\n",
        "\n",
        "'numpy.모듈명' 대신 'np.모듈명' 형태로 간단하게 사용 가능\n"
      ],
      "metadata": {
        "id": "Wai_zpCvfbwn"
      }
    },
    {
      "cell_type": "code",
      "source": [
        "import numpy as np"
      ],
      "metadata": {
        "id": "R-uDz5VggY_o"
      },
      "execution_count": null,
      "outputs": []
    },
    {
      "cell_type": "markdown",
      "source": [
        "### 7.2.2 1차원 배열\n",
        "\n",
        "배열을 고속으로 처리하는 ndarray 클래스 존재\n",
        "\n",
        "1) **np.array()** 함수 이용\n",
        "\n",
        "'np.array(리스트)' 로 리스트 전달하여 ndarray 생성"
      ],
      "metadata": {
        "id": "uN-Ah3ZogTtb"
      }
    },
    {
      "cell_type": "code",
      "execution_count": null,
      "metadata": {
        "colab": {
          "base_uri": "https://localhost:8080/"
        },
        "id": "SJlzh-kjdm26",
        "outputId": "817f251d-b0f1-40cc-b9b5-b18f8158539e"
      },
      "outputs": [
        {
          "output_type": "execute_result",
          "data": {
            "text/plain": [
              "array([1, 2, 3])"
            ]
          },
          "metadata": {},
          "execution_count": 2
        }
      ],
      "source": [
        "np.array([1,2,3])"
      ]
    },
    {
      "cell_type": "markdown",
      "source": [
        "2) **np.arange()** 함수 이용\n",
        "\n",
        "np.arange(X) 로 표기하여 일정한 간격으로 증감시킨 값의 요소를 X개 만들어줘"
      ],
      "metadata": {
        "id": "ej8VJGM9gbyb"
      }
    },
    {
      "cell_type": "code",
      "source": [
        "np.arange(4)"
      ],
      "metadata": {
        "colab": {
          "base_uri": "https://localhost:8080/"
        },
        "id": "rIcWAIoFgkEI",
        "outputId": "7de48490-4b51-4281-d073-de2d70447e1f"
      },
      "execution_count": null,
      "outputs": [
        {
          "output_type": "execute_result",
          "data": {
            "text/plain": [
              "array([0, 1, 2, 3])"
            ]
          },
          "metadata": {},
          "execution_count": 3
        }
      ]
    },
    {
      "cell_type": "markdown",
      "source": [
        "### 7.2.3 1차원 배열의 계산\n",
        "\n",
        "ndarray의 산술 연산은 같은 위치에 있는 요소끼리 계산돼"
      ],
      "metadata": {
        "id": "6knCQj5TgpgL"
      }
    },
    {
      "cell_type": "code",
      "source": [
        "storages = np.array([1,2,3,4])\n",
        "storages += storages\n",
        "print(storages)"
      ],
      "metadata": {
        "colab": {
          "base_uri": "https://localhost:8080/"
        },
        "id": "p-Zxx9a9gv62",
        "outputId": "41cbc65c-f7d4-4893-ac66-3399538aee10"
      },
      "execution_count": null,
      "outputs": [
        {
          "output_type": "stream",
          "name": "stdout",
          "text": [
            "[2 4 6 8]\n"
          ]
        }
      ]
    },
    {
      "cell_type": "markdown",
      "source": [
        "### 7.2.4 인덱스 참조와 슬라이스\n",
        "\n",
        "인덱스 참조와 슬라이스는 리스트와 사용 방법 동일\n",
        "\n",
        "슬라이스값 변경하려면 'arr[start:end]=변경하려는 값' 으로 표기\n",
        "\n",
        "start부터 end-1까지의 리스트 작성된다는 점 주의 !!"
      ],
      "metadata": {
        "id": "XcSMVULdg565"
      }
    },
    {
      "cell_type": "code",
      "source": [
        "arr = np.arange(10)\n",
        "arr[0:3] = 1\n",
        "print(arr)"
      ],
      "metadata": {
        "colab": {
          "base_uri": "https://localhost:8080/"
        },
        "id": "Ajx9-xgPhU2I",
        "outputId": "2a86020d-3f18-4dfc-eb63-72d82dfea2a5"
      },
      "execution_count": null,
      "outputs": [
        {
          "output_type": "stream",
          "name": "stdout",
          "text": [
            "[1 1 1 3 4 5 6 7 8 9]\n"
          ]
        }
      ]
    },
    {
      "cell_type": "markdown",
      "source": [
        "### 7.2.5 ndarray 사용시 주의사항\n",
        "\n",
        "ndarray 배열을 다른 변수에 그대로 대입한 경우 해당 변수의 값을 변경하면 원래 ndarray 배열의 값도 변경돼\n",
        "\n",
        "=> ndarray를 복사하여 두 개의 변수를 별도로 만들고 싶을 때는 **copy()** 메서드 사용\n",
        "\n",
        "'복사할 배열.copy()'로 복사 가능"
      ],
      "metadata": {
        "id": "nivcdDg2hd8-"
      }
    },
    {
      "cell_type": "code",
      "source": [
        "arr1 = np.array([1,2,3,4,5])\n",
        "print(arr1)\n",
        "\n",
        "arr2 = arr1\n",
        "arr2[0]=100\n",
        "\n",
        "print(arr1)    # arr2 변수를 변경하면 원래 변수(arr1)도 영향받아\n",
        "\n",
        "arr1 = np.array([1,2,3,4,5])\n",
        "print(arr1)\n",
        "\n",
        "arr2=arr1.copy()\n",
        "arr2[0]=100\n",
        "\n",
        "print(arr1)     # arr2 변수 변경해도 원래 변수(arr1)에 영향 주지 않아"
      ],
      "metadata": {
        "colab": {
          "base_uri": "https://localhost:8080/"
        },
        "id": "NylCb3K0hYpY",
        "outputId": "49acf42a-77e2-46e5-d63c-5d978845416e"
      },
      "execution_count": null,
      "outputs": [
        {
          "output_type": "stream",
          "name": "stdout",
          "text": [
            "[1 2 3 4 5]\n",
            "[100   2   3   4   5]\n",
            "[1 2 3 4 5]\n",
            "[1 2 3 4 5]\n"
          ]
        }
      ]
    },
    {
      "cell_type": "markdown",
      "source": [
        "### 7.2.6 view와 copy\n",
        "\n",
        "ndarray의 슬라이스는 배열의 복사본이 아닌 view(원래 배열의 데이터) -> 원래 ndarray를 변경하게 돼\n",
        "\n",
        "=> 슬라이스를 복사본으로 만들려면 copy()메서드 사용"
      ],
      "metadata": {
        "id": "NmRHQY1dj7q-"
      }
    },
    {
      "cell_type": "markdown",
      "source": [
        "### 7.2.7 부울 인덱스 참조\n",
        "\n",
        "* 부울 인덱스 참조 : []안에 논리값(True/False) 배열 사용하여 요소 추출하는 방법\n",
        "\n",
        "'arr[ndarray 논리값 배열]'로 표기"
      ],
      "metadata": {
        "id": "QL3fOSqekO7M"
      }
    },
    {
      "cell_type": "code",
      "source": [
        "arr = np.array([2,4,6,7])\n",
        "print(arr[np.array([True,True,True,False])])\n",
        "print(arr[arr%3==1])"
      ],
      "metadata": {
        "colab": {
          "base_uri": "https://localhost:8080/"
        },
        "id": "kF_vIYg4lMjL",
        "outputId": "9002a695-dabe-43fc-9d29-d54c2ca5f590"
      },
      "execution_count": null,
      "outputs": [
        {
          "output_type": "stream",
          "name": "stdout",
          "text": [
            "[2 4 6]\n",
            "[4 7]\n"
          ]
        }
      ]
    },
    {
      "cell_type": "markdown",
      "source": [
        "### 7.2.8 범용 함수\n",
        "\n",
        "* 범용 함수 : ndarray 배열의 각 요소에 대한 연산 결과 반환하는 함수\n",
        "\n",
        ">* np.abs()함수 : 요소의 절댓값 반환\n",
        ">* np.exp()함수 : 요소의 e의 거듭제곱 반환\n",
        ">* np.sqrt()함수 : 요소의 제곱근 반환\n",
        ">* np.add()함수 : 요소 간의 합 반환\n",
        ">* np.subtract()함수 : 요소 간의 차이 반환\n",
        ">* np.maximum()함수 : 요소 간의 최댓값 저장한 배열 반환"
      ],
      "metadata": {
        "id": "IGyJAJU9lZRb"
      }
    },
    {
      "cell_type": "markdown",
      "source": [
        "### 7.2.9 집합 함수\n",
        "\n",
        "* 집합 함수 : 수학의 집합 연산 수행하는 함수\n",
        "\n",
        "1차원 배열만을 대상으로 해 \n",
        "\n",
        ">* np.unique()함수 : 배열 요소에서 중복을 제거하고 정렬한 결과 반환\n",
        ">* np.union1d(x,y)함수 : 배열 x와 y의 합집합 정렬해서 반환\n",
        ">* np.intersect1d(x,y)함수 : 배열 x와 y의 교집합 정렬해서 반환\n",
        ">* np.setdiff1d(x,y)함수 : 배열 x에서 배열 y를 뺀 차집합 정렬해서 반환"
      ],
      "metadata": {
        "id": "eldM4Ooel-WH"
      }
    },
    {
      "cell_type": "markdown",
      "source": [
        "### 7.2.10 난수\n",
        "\n",
        "**np.random()** 모듈로 난수 생성\n",
        "\n",
        ">* np.random.rand()함수 : 0 이상 1 미만의 난수 생성 / ()에 넣은 정수의 횟수만큼 난수 생성\n",
        ">* np.random.randint(x,y,z)함수 : x 이상 y 미만의 정수를 z개 생성 / z에는 (2,3) 인수 넣을 수도 o\n",
        " +  from numpy.random import randint 기술해두면 randint()만으로 함수 사용 가능\n",
        ">* np.random.normal()함수 : 가우스 분포를 따르는 나수 생성"
      ],
      "metadata": {
        "id": "arIUG3hWmwoc"
      }
    },
    {
      "cell_type": "markdown",
      "source": [
        "## 7.3. Numpy 2차원 배열\n",
        "\n",
        "### 7.3.1 2차원 배열\n",
        "\n",
        "* 2차원 배열 = 행렬 => 'np.array([리스트, 리스트])'로 표기\n",
        "\n",
        "'ndarry배열.**shape**'로 각 차원의 요소 수 반환\n",
        "\n",
        "'ndarray배열.**reshape(a,b)**'로 지정한 인수와 같은 모양의 행렬로 변환"
      ],
      "metadata": {
        "id": "uFB7OUcgoEOm"
      }
    },
    {
      "cell_type": "code",
      "source": [
        "arr = np.array([[1,2,3,4],[5,6,7,8]])\n",
        "print(arr)\n",
        "print(arr.shape)\n",
        "print(arr.reshape(4,2))"
      ],
      "metadata": {
        "colab": {
          "base_uri": "https://localhost:8080/"
        },
        "id": "3Fk5cdvRo9CJ",
        "outputId": "e7d078fe-c905-4590-d946-fcdc5b64e515"
      },
      "execution_count": null,
      "outputs": [
        {
          "output_type": "stream",
          "name": "stdout",
          "text": [
            "[[1 2 3 4]\n",
            " [5 6 7 8]]\n",
            "(2, 4)\n",
            "[[1 2]\n",
            " [3 4]\n",
            " [5 6]\n",
            " [7 8]]\n"
          ]
        }
      ]
    },
    {
      "cell_type": "markdown",
      "source": [
        "### 7.3.2 인덱스 참조와 슬라이스\n",
        "\n",
        "* 인덱스 하나만 지정하면 임의의 행을 배열로 가져올 수 있다"
      ],
      "metadata": {
        "id": "oA2EhltnpNeE"
      }
    },
    {
      "cell_type": "code",
      "source": [
        "arr = np.array([[1,2,3],[4,5,6]])\n",
        "print(arr[1])"
      ],
      "metadata": {
        "colab": {
          "base_uri": "https://localhost:8080/"
        },
        "id": "_RJRacecpWaD",
        "outputId": "0ca801ab-436f-4e0c-f0d4-5492cd39c0cf"
      },
      "execution_count": null,
      "outputs": [
        {
          "output_type": "stream",
          "name": "stdout",
          "text": [
            "[4 5 6]\n"
          ]
        }
      ]
    },
    {
      "cell_type": "markdown",
      "source": [
        "* 개별 요소, 즉 스칼라값에 도달하려면 인덱스 두 개 지정\n",
        "\n",
        "arr[1][2] 또는 arr[1,2]와 같이 접근"
      ],
      "metadata": {
        "id": "SRjsbq1Epbng"
      }
    },
    {
      "cell_type": "code",
      "source": [
        "arr = np.array([[1,2,3],[4,5,6]])\n",
        "print(arr[1,2])"
      ],
      "metadata": {
        "colab": {
          "base_uri": "https://localhost:8080/"
        },
        "id": "S1g3rdZlpmU9",
        "outputId": "329be492-51f8-47e9-8d7c-b0cb765907f9"
      },
      "execution_count": null,
      "outputs": [
        {
          "output_type": "stream",
          "name": "stdout",
          "text": [
            "6\n"
          ]
        }
      ]
    },
    {
      "cell_type": "code",
      "source": [
        "# 슬라이스 예\n",
        "arr = np.array([[1,2,3],[4,5,6]])\n",
        "print(arr[1,1:])"
      ],
      "metadata": {
        "colab": {
          "base_uri": "https://localhost:8080/"
        },
        "id": "9ReJjAXcpxhv",
        "outputId": "ebb426ec-c042-4239-91e0-0659aae2565a"
      },
      "execution_count": null,
      "outputs": [
        {
          "output_type": "stream",
          "name": "stdout",
          "text": [
            "[5 6]\n"
          ]
        }
      ]
    },
    {
      "cell_type": "code",
      "source": [
        "# 문제\n",
        "arr = np.array([[1,2,3],[4,5,6],[7,8,9]])\n",
        "print(arr)\n",
        "print(arr[0,2])\n",
        "print(arr[1:,:2])"
      ],
      "metadata": {
        "colab": {
          "base_uri": "https://localhost:8080/"
        },
        "id": "h4asO0oHqEig",
        "outputId": "3c02ce40-b323-4d62-f249-078a0a0fe9cc"
      },
      "execution_count": null,
      "outputs": [
        {
          "output_type": "stream",
          "name": "stdout",
          "text": [
            "[[1 2 3]\n",
            " [4 5 6]\n",
            " [7 8 9]]\n",
            "3\n",
            "[[4 5]\n",
            " [7 8]]\n"
          ]
        }
      ]
    },
    {
      "cell_type": "markdown",
      "source": [
        "### 7.3.3 axis\n",
        "\n",
        "* axis = 좌표축\n",
        "\n",
        "**axis=0 : 열마다 처리하는 축, axis=1 : 행마다 처리하는 축**\n"
      ],
      "metadata": {
        "id": "P1z7fvGEqEOL"
      }
    },
    {
      "cell_type": "code",
      "source": [
        "arr = np.array([[1,2,3],[4,5,6]])\n",
        "\n",
        "print(arr.sum())\n",
        "print(arr.sum(axis=0))\n",
        "print(arr.sum(axis=1))"
      ],
      "metadata": {
        "colab": {
          "base_uri": "https://localhost:8080/"
        },
        "id": "k5UG38YwqjB_",
        "outputId": "db0eb63c-275e-425a-ee9c-28d2763be031"
      },
      "execution_count": null,
      "outputs": [
        {
          "output_type": "stream",
          "name": "stdout",
          "text": [
            "21\n",
            "[5 7 9]\n",
            "[ 6 15]\n"
          ]
        }
      ]
    },
    {
      "cell_type": "code",
      "source": [
        "# 문제\n",
        "arr = np.array([[1,2,3],[4,5,12],[15,20,22]])\n",
        "print(arr.sum(axis=1))"
      ],
      "metadata": {
        "colab": {
          "base_uri": "https://localhost:8080/"
        },
        "id": "ACCRFmm8q1ug",
        "outputId": "c0a772f9-c5de-46ba-b75c-f2dd9905bc09"
      },
      "execution_count": null,
      "outputs": [
        {
          "output_type": "stream",
          "name": "stdout",
          "text": [
            "[ 6 21 57]\n"
          ]
        }
      ]
    },
    {
      "cell_type": "markdown",
      "source": [
        "### 7.3.4 팬시 인덱스 참조\n",
        "\n",
        "* 팬시 인덱스 참조 : 인덱스 참조로 인덱스의 배열을 이용하는 방법\n",
        "\n",
        "ndarray 배열에서 특정 순서로 행 추출하려면 그 순서를 나타내는 배열을 인덱스 참조로 전달하면 돼\n",
        "\n",
        "항상 원본 데이터의 복사본 반환하여 새로운 요소 작성"
      ],
      "metadata": {
        "id": "P-JN0PrJrDKW"
      }
    },
    {
      "cell_type": "code",
      "source": [
        "arr = np.array([[1,2],[3,4],[5,6],[7,8]])\n",
        "print(arr[[3,2,0]])"
      ],
      "metadata": {
        "colab": {
          "base_uri": "https://localhost:8080/"
        },
        "id": "Ub-luxiusS1-",
        "outputId": "41fb943a-f7c6-4949-fbd5-50e7a909090a"
      },
      "execution_count": null,
      "outputs": [
        {
          "output_type": "stream",
          "name": "stdout",
          "text": [
            "[[7 8]\n",
            " [5 6]\n",
            " [1 2]]\n"
          ]
        }
      ]
    },
    {
      "cell_type": "code",
      "source": [
        "# 문제\n",
        "arr = np.arange(25).reshape(5,5)\n",
        "print(arr[[1,3,0]])"
      ],
      "metadata": {
        "colab": {
          "base_uri": "https://localhost:8080/"
        },
        "id": "hCCdrsTFsblB",
        "outputId": "77da0224-69c4-4988-a89e-3641d3e213f4"
      },
      "execution_count": null,
      "outputs": [
        {
          "output_type": "stream",
          "name": "stdout",
          "text": [
            "[[ 5  6  7  8  9]\n",
            " [15 16 17 18 19]\n",
            " [ 0  1  2  3  4]]\n"
          ]
        }
      ]
    },
    {
      "cell_type": "markdown",
      "source": [
        "### 7.3.5 전치 행렬\n",
        "\n",
        "* 전치행렬 -> 행렬의 내적 계산 등에서 사용(전치 : 행렬에서 행과 열을 바꾸는 것)\n",
        "\n",
        "**np.transpose()** 함수 사용 or **.T** 사용"
      ],
      "metadata": {
        "id": "RMpThSkcsoug"
      }
    },
    {
      "cell_type": "code",
      "source": [
        "arr = np.arange(10).reshape(2,5)\n",
        "print(arr.T)"
      ],
      "metadata": {
        "colab": {
          "base_uri": "https://localhost:8080/"
        },
        "id": "WWakS3h3s7aK",
        "outputId": "06a4d7a5-f846-4520-a0d5-514e99ab7c55"
      },
      "execution_count": null,
      "outputs": [
        {
          "output_type": "stream",
          "name": "stdout",
          "text": [
            "[[0 5]\n",
            " [1 6]\n",
            " [2 7]\n",
            " [3 8]\n",
            " [4 9]]\n"
          ]
        }
      ]
    },
    {
      "cell_type": "markdown",
      "source": [
        "### 7.3.6 정렬\n",
        "\n",
        "1) **sort()** 메서드 : 2차원 배열의 경우 0을 인수로 하면 열 단위로 요소 정렬, 1을 인수로 하면 행 단위로 요소 정렬\n",
        "\n",
        "2) **np.sort()** 함수 : 정렬된 배열의 복사본 반환\n",
        "\n",
        "3) **argsort()**메서드 : 정렬된 배열의 인덱스 반환"
      ],
      "metadata": {
        "id": "zQfhFEjMtD4j"
      }
    },
    {
      "cell_type": "code",
      "source": [
        "arr = np.array([15,30,5])\n",
        "arr.argsort()"
      ],
      "metadata": {
        "colab": {
          "base_uri": "https://localhost:8080/"
        },
        "id": "w2L5SicsvYAR",
        "outputId": "8e9165f8-ee86-4498-db5d-e7603a8986f5"
      },
      "execution_count": null,
      "outputs": [
        {
          "output_type": "execute_result",
          "data": {
            "text/plain": [
              "array([2, 0, 1])"
            ]
          },
          "metadata": {},
          "execution_count": 22
        }
      ]
    },
    {
      "cell_type": "code",
      "source": [
        "# 문제\n",
        "arr = np.array([[8,4,2],[3,5,1]])\n",
        "print(arr.argsort())\n",
        "print(np.sort(arr))\n",
        "arr.sort(1)\n",
        "print(arr)"
      ],
      "metadata": {
        "colab": {
          "base_uri": "https://localhost:8080/"
        },
        "id": "_2IKRp2iv1QJ",
        "outputId": "da042749-84e8-410c-b7c3-d7e1ec1aa60b"
      },
      "execution_count": null,
      "outputs": [
        {
          "output_type": "stream",
          "name": "stdout",
          "text": [
            "[[2 1 0]\n",
            " [2 0 1]]\n",
            "[[2 4 8]\n",
            " [1 3 5]]\n",
            "[[2 4 8]\n",
            " [1 3 5]]\n"
          ]
        }
      ]
    },
    {
      "cell_type": "markdown",
      "source": [
        "### 7.3.7 행렬 계산\n",
        "\n",
        "**np.dot(a,b)** : 두 행렬의 행렬곱 반환(행벡터와 열벡터의 내적을 요소로 하는 행렬 새로 생성)    -> x.dot(y) 또는 np.dot(x,y)\n",
        "\n",
        "**np.linalg.norm(a)** : 노름 반환(벡터의 길이) <- 요소의 제곱값을 더해 루트 씌운 것"
      ],
      "metadata": {
        "id": "PfDfqdQAwIWY"
      }
    },
    {
      "cell_type": "code",
      "source": [
        "# 문제\n",
        "arr = np.arange(9).reshape(3,3)\n",
        "print(np.dot(arr,arr))   \n",
        "\n",
        "vec = arr.reshape(9)\n",
        "print(np.linalg.norm(vec))"
      ],
      "metadata": {
        "colab": {
          "base_uri": "https://localhost:8080/"
        },
        "id": "LDgqFrWxwe8u",
        "outputId": "c6a51215-cff0-4524-b34c-f4260eccdcb7"
      },
      "execution_count": null,
      "outputs": [
        {
          "output_type": "stream",
          "name": "stdout",
          "text": [
            "[[ 15  18  21]\n",
            " [ 42  54  66]\n",
            " [ 69  90 111]]\n",
            "14.2828568570857\n"
          ]
        }
      ]
    },
    {
      "cell_type": "markdown",
      "source": [
        "### 7.3.8 통계 함수\n",
        "\n",
        "* 통계 함수 : ndarray 배열 전체 또는 특정 축을 중심으로 수학적 처리를 수행하는 함수 또는 메서드\n",
        "\n",
        ">* sum()메서드 : 배열의 합 반환\n",
        ">* mean()메서드와 np.average()메서드 : 배열 요소의 평균 반환\n",
        ">* np.max()메서드와 np.min()메서드 : 최댓값/최솟값 반환\n",
        ">* np.argmax()메서드와 np.argmin()메서드 : 요소의 최댓값 또는 최솟값의 인덱스 번호 반환\n",
        ">* np.std()메서드와 np.var()메서드 : 표준편차와 분산\n",
        "\n",
        "+) sum(), mean(), argmax(), argmin() 메서드 등에서도 axis 지정해 처리 가능\n",
        "\n",
        "열마다 처리하는 축 : axis=0 / 행마다 처리하는 축 : axis=1"
      ],
      "metadata": {
        "id": "-iUGcLwxw9sg"
      }
    },
    {
      "cell_type": "code",
      "source": [
        "# 문제\n",
        "arr = np.arange(15).reshape(3,5)\n",
        "\n",
        "print(arr.mean(axis=0))\n",
        "print(arr.sum(axis=1))\n",
        "print(arr.min())\n",
        "print(arr.argmax(axis=0))"
      ],
      "metadata": {
        "colab": {
          "base_uri": "https://localhost:8080/"
        },
        "id": "2Ep2FYNWx_Df",
        "outputId": "c2f2fe00-6bd2-4849-f745-e48535448b43"
      },
      "execution_count": null,
      "outputs": [
        {
          "output_type": "stream",
          "name": "stdout",
          "text": [
            "[5. 6. 7. 8. 9.]\n",
            "[10 35 60]\n",
            "0\n",
            "[2 2 2 2 2]\n"
          ]
        }
      ]
    },
    {
      "cell_type": "markdown",
      "source": [
        "### 7.3.9 브로드캐스트\n",
        "\n",
        "* 브로드캐스트 : 크기가 다른 numpy 배열 간의 연산에서 자동으로 처리\n",
        "\n",
        ": 두 ndarray 연산시 크기가 작은 배열의 행과 열을 자동으로 큰 배열 쪽에 맞춰줘\n",
        "\n",
        ": 두 배열의 행이 일치하지 않을 경우에는 행이 적은 쪽이 많은 쪽의 수에 맞추어 부족한 부분을 기존 행에서 복사(열도 마찬가지)"
      ],
      "metadata": {
        "id": "f2z3tguZyVkh"
      }
    },
    {
      "cell_type": "code",
      "source": [
        "x = np.arange(6).reshape(2,3)\n",
        "print(x+1)"
      ],
      "metadata": {
        "colab": {
          "base_uri": "https://localhost:8080/"
        },
        "id": "2_mSweosyyL8",
        "outputId": "d636716f-562e-44b8-f0c1-cbe69cb9c5a1"
      },
      "execution_count": null,
      "outputs": [
        {
          "output_type": "stream",
          "name": "stdout",
          "text": [
            "[[1 2 3]\n",
            " [4 5 6]]\n"
          ]
        }
      ]
    },
    {
      "cell_type": "code",
      "source": [
        "# 문제\n",
        "x = np.arange(15).reshape(3,5)\n",
        "y = np.array([np.arange(5)])\n",
        "z = x-y\n",
        "print(z)"
      ],
      "metadata": {
        "colab": {
          "base_uri": "https://localhost:8080/"
        },
        "id": "ghq5feyty3d3",
        "outputId": "1b478d9d-5279-4a82-8494-65c7e1a1bd29"
      },
      "execution_count": null,
      "outputs": [
        {
          "output_type": "stream",
          "name": "stdout",
          "text": [
            "[[ 0  0  0  0  0]\n",
            " [ 5  5  5  5  5]\n",
            " [10 10 10 10 10]]\n"
          ]
        }
      ]
    },
    {
      "cell_type": "markdown",
      "source": [
        "\n",
        "\n",
        "---\n",
        "\n"
      ],
      "metadata": {
        "id": "LODiORcazQ7K"
      }
    },
    {
      "cell_type": "code",
      "source": [
        "# 연습문제\n",
        "np.random.seed(100)\n",
        "arr = np.random.randint(0,31,(5,3))\n",
        "print(arr)\n",
        "\n",
        "arr=arr.T\n",
        "print(arr)\n",
        "\n",
        "arr1=arr[:,1:4]\n",
        "print(arr1)\n",
        "\n",
        "arr1.sort(0)\n",
        "print(arr1)\n",
        "\n",
        "print(arr1.mean(axis=0))"
      ],
      "metadata": {
        "colab": {
          "base_uri": "https://localhost:8080/"
        },
        "id": "YPHKB7GDzR-u",
        "outputId": "10571481-79e1-44eb-80d1-cd510779c454"
      },
      "execution_count": null,
      "outputs": [
        {
          "output_type": "stream",
          "name": "stdout",
          "text": [
            "[[ 8 24  3]\n",
            " [ 7 23 15]\n",
            " [16 10 30]\n",
            " [20  2 21]\n",
            " [ 2  2 14]]\n",
            "[[ 8  7 16 20  2]\n",
            " [24 23 10  2  2]\n",
            " [ 3 15 30 21 14]]\n",
            "[[ 7 16 20]\n",
            " [23 10  2]\n",
            " [15 30 21]]\n",
            "[[ 7 10  2]\n",
            " [15 16 20]\n",
            " [23 30 21]]\n",
            "[15.         18.66666667 14.33333333]\n"
          ]
        }
      ]
    },
    {
      "cell_type": "code",
      "source": [
        "# 종합 문제\n",
        "np.random.seed(0)   # 난수 초기화\n",
        "\n",
        "def make_image(m,n):\n",
        "  image = np.random.randint(0,6,(m,n))\n",
        "  return image\n",
        "\n",
        "def change_little(matrix):\n",
        "  shape = matrix.shape\n",
        "  for i in range(shape[0]):\n",
        "    for j in range(shape[1]):\n",
        "      if np.random.randint(0,2)==1:\n",
        "        matrix[i][j] = np.random.randint(0,6,1)\n",
        "  return matrix\n",
        "\n",
        "image1 = make_image(3,3)\n",
        "print(image1)\n",
        "print()\n",
        "\n",
        "image2 = change_little(np.copy(image1))\n",
        "print(image2)\n",
        "print()\n",
        "\n",
        "image3 = image2-image1\n",
        "print(image3)\n",
        "print()\n",
        "\n",
        "image3 = np.abs(image3)\n",
        "\n",
        "print(image3)"
      ],
      "metadata": {
        "colab": {
          "base_uri": "https://localhost:8080/"
        },
        "id": "4UN4O3t-z5_D",
        "outputId": "f6ccc778-9a99-4c58-ac96-e784a5c35169"
      },
      "execution_count": null,
      "outputs": [
        {
          "output_type": "stream",
          "name": "stdout",
          "text": [
            "[[4 5 0]\n",
            " [3 3 3]\n",
            " [1 3 5]]\n",
            "\n",
            "[[4 5 0]\n",
            " [3 3 3]\n",
            " [0 5 5]]\n",
            "\n",
            "[[ 0  0  0]\n",
            " [ 0  0  0]\n",
            " [-1  2  0]]\n",
            "\n",
            "[[0 0 0]\n",
            " [0 0 0]\n",
            " [1 2 0]]\n"
          ]
        }
      ]
    }
  ]
}