{
  "nbformat": 4,
  "nbformat_minor": 0,
  "metadata": {
    "colab": {
      "provenance": [],
      "collapsed_sections": [],
      "authorship_tag": "ABX9TyMRH6d+CcAyL4otEEUNAYdR",
      "include_colab_link": true
    },
    "kernelspec": {
      "name": "python3",
      "display_name": "Python 3"
    },
    "language_info": {
      "name": "python"
    }
  },
  "cells": [
    {
      "cell_type": "markdown",
      "metadata": {
        "id": "view-in-github",
        "colab_type": "text"
      },
      "source": [
        "<a href=\"https://colab.research.google.com/github/anwishn/HoPy/blob/main/ch20_%EB%94%A5%EB%9F%AC%EB%8B%9D_%ED%8A%9C%EB%8B%9D.ipynb\" target=\"_parent\"><img src=\"https://colab.research.google.com/assets/colab-badge.svg\" alt=\"Open In Colab\"/></a>"
      ]
    },
    {
      "cell_type": "markdown",
      "source": [
        "파이썬으로 배우는 딥러닝 교과서 ch20"
      ],
      "metadata": {
        "id": "bOy4H8hfSIKT"
      }
    },
    {
      "cell_type": "markdown",
      "source": [
        "# 20. 딥러닝 튜닝"
      ],
      "metadata": {
        "id": "mCYRBDMRf0uD"
      }
    },
    {
      "cell_type": "markdown",
      "source": [
        "## 20.1 하이퍼파라미터"
      ],
      "metadata": {
        "id": "oCylaYo-f5Jq"
      }
    },
    {
      "cell_type": "markdown",
      "source": [
        "**하이퍼파라미터** : 네트워크를 구성할 때 사람이 조정해야 하는 파라미터\n",
        "\n",
        "=> 자동으로 최적화x, 적절하게 설정하지 않으면 올바르게 학습x => 새 모델 만들때 최적의 하이퍼파라미터 고려해야돼"
      ],
      "metadata": {
        "id": "cpOmuY59hq0t"
      }
    },
    {
      "cell_type": "markdown",
      "source": [
        "## 20.2 네트워크 구조"
      ],
      "metadata": {
        "id": "WzuwHiHAh6nh"
      }
    },
    {
      "cell_type": "markdown",
      "source": [
        "네트워크 구조 = 은닉층 수, 은닉층의 유닛 수\n",
        "\n",
        "자유롭게 설정 가능 -> 은닉층 수 및 은닉층의 유닛 수를 많게 하면 다양한 함수 표현 가능\n",
        "\n",
        "* 은닉층 많아지면 => 입력층에 가까운 가중치를 적절하게 갱신하기 어렵다, 학습이 좀처럼 진행x\n",
        "\n",
        "* 은닉층의 유닛 수가 많아지면 => 중요성이 낮은 특징량을 추출해 -> 과학습하기 쉬워"
      ],
      "metadata": {
        "id": "wALk5RZCh9C_"
      }
    },
    {
      "cell_type": "code",
      "execution_count": null,
      "metadata": {
        "colab": {
          "base_uri": "https://localhost:8080/"
        },
        "id": "uJHqHzl4fuzX",
        "outputId": "f823a4d4-3ca5-4aa5-ba61-c8c7723b110b"
      },
      "outputs": [
        {
          "output_type": "stream",
          "name": "stdout",
          "text": [
            "Downloading data from https://storage.googleapis.com/tensorflow/tf-keras-datasets/mnist.npz\n",
            "11493376/11490434 [==============================] - 0s 0us/step\n",
            "11501568/11490434 [==============================] - 0s 0us/step\n"
          ]
        },
        {
          "output_type": "stream",
          "name": "stderr",
          "text": [
            "/usr/local/lib/python3.7/dist-packages/keras/optimizer_v2/gradient_descent.py:102: UserWarning: The `lr` argument is deprecated, use `learning_rate` instead.\n",
            "  super(SGD, self).__init__(name, **kwargs)\n"
          ]
        },
        {
          "output_type": "stream",
          "name": "stdout",
          "text": [
            "Epoch 1/3\n",
            "188/188 [==============================] - 2s 8ms/step - loss: 4.4254 - accuracy: 0.1025\n",
            "Epoch 2/3\n",
            "188/188 [==============================] - 2s 12ms/step - loss: 2.4538 - accuracy: 0.1028\n",
            "Epoch 3/3\n",
            "188/188 [==============================] - 3s 14ms/step - loss: 2.3886 - accuracy: 0.1045\n",
            "evaluate loss: 2.3511240482330322\n",
            "evaluate acc: 0.10700000077486038\n"
          ]
        }
      ],
      "source": [
        "# 네트워크 구조, 특히 은닉층 구조가 모델의 학습에 미치는 영향 확인하기\n",
        "# A : 유닛 수 256개의 전결합 은닉층 하나, 유닛 수 128개의 전결합 은닉층 하나를 가진 모델\n",
        "# B : 유닛 수 256개의 전결합 은닉층 하나, 유닛 수 128개의 전결합 은닉층 3개를 가진 모델\n",
        "# C : 유닛 수 256개의 전결합 은닉층 하나, 유닛 수 1568개의 전결합 은닉층 하나를 가진 모델\n",
        "\n",
        "import numpy as np\n",
        "import matplotlib.pyplot as plt\n",
        "from keras.datasets import mnist\n",
        "from keras.layers import Activation, Dense, Dropout\n",
        "from keras.models import Sequential, load_model\n",
        "from keras import optimizers\n",
        "from keras.utils.np_utils import to_categorical\n",
        "import tensorflow as tf\n",
        "\n",
        "(X_train, y_train), (X_test, y_test) = mnist.load_data()\n",
        "\n",
        "X_train = X_train.reshape(X_train.shape[0], 784)[:6000]\n",
        "X_test = X_test.reshape(X_test.shape[0], 784)[:1000]\n",
        "y_train = to_categorical(y_train)[:6000]\n",
        "y_test = to_categorical(y_test)[:1000]\n",
        "\n",
        "model = Sequential()\n",
        "model.add(Dense(256, input_dim=784))\n",
        "model.add(Activation(\"sigmoid\"))\n",
        "\n",
        "def funcA():\n",
        "  model.add(Dense(128))\n",
        "  model.add(Activation(\"sigmoid\"))\n",
        "\n",
        "def funcB():\n",
        "  model.add(Dense(128))\n",
        "  model.add(Activation(\"sigmoid\"))\n",
        "  model.add(Dense(128))\n",
        "  model.add(Activation(\"sigmoid\"))\n",
        "  model.add(Dense(128))\n",
        "  model.add(Activation(\"sigmoid\"))\n",
        "\n",
        "def funcC():\n",
        "  model.add(Dense(1568))\n",
        "  model.add(Activation(\"sigmoid\"))\n",
        "\n",
        "funcA()\n",
        "funcB()\n",
        "funcC()\n",
        "\n",
        "model.add(Dropout(rate=0.5))\n",
        "model.add(Dense(10))\n",
        "model.add(Activation(\"softmax\"))\n",
        "\n",
        "sgd = tf.optimizers.SGD(lr=0.1)\n",
        "\n",
        "model.compile(optimizer=sgd, loss=\"categorical_crossentropy\", metrics =[\"accuracy\"])\n",
        "\n",
        "model.fit(X_train, y_train, batch_size=32, epochs=3, verbose=1)\n",
        "\n",
        "score = model.evaluate(X_test, y_test, verbose=0)\n",
        "print(\"evaluate loss: {0[0]}\\nevaluate acc: {0[1]}\".format(score))"
      ]
    },
    {
      "cell_type": "markdown",
      "source": [
        "## 20.3 드롭아웃"
      ],
      "metadata": {
        "id": "EeRlRfc5GSLK"
      }
    },
    {
      "cell_type": "markdown",
      "source": [
        "**드롭아웃** : 과학습을 방지하여 모델의 정확도를 높이는 방법\n",
        "\n",
        "* 유닛의 일부가 학습할 때마다 무작위로 제거 -> 보다 범용적인 특징 학습 -> 과학습 방지\n",
        "\n",
        "```\n",
        "model.add(Dropout(rate=0.5))  # rate : 제거할 유닛의 비율\n",
        "```\n",
        "\n"
      ],
      "metadata": {
        "id": "BR7Zts2eGU_n"
      }
    },
    {
      "cell_type": "markdown",
      "source": [
        "## 20.4 활성화 함수\n",
        "\n",
        "**활성화 함수** : 주로 전결합층 뒤에 적용하는 함수, 뉴런의 발화\n",
        "\n",
        "* 비선형성을 갖게 해 -> 선형 분리 불가능한 모델도 분류 가능"
      ],
      "metadata": {
        "id": "eiQyxoGBIOac"
      }
    },
    {
      "cell_type": "markdown",
      "source": [
        "### 20.4.1 시그모이드 함수\n",
        "\n",
        "**시그모이드 함수(sigmoid function)** : 활성화 함수로 사용되는 함수\n",
        "\n",
        "```\n",
        "sigmoid(x) = 1 / (1+e^(-x))\n",
        "```\n",
        "* 출력은 반드시 구간 (0,1) 안에 들어가기 때문에 극단적인 출력값이 적다."
      ],
      "metadata": {
        "id": "Z-dBWC4BIads"
      }
    },
    {
      "cell_type": "markdown",
      "source": [
        "### 20.4.2 ReLU 함수\n",
        "\n",
        "**ReLU 함수**(Rectified Linear Unit) : 활성화 함수로 자주 사용\n",
        "\n",
        "\n",
        "\n",
        "```\n",
        "ReLu(x) = 0(x<0), x(x>=0)\n",
        "```\n",
        "\n",
        "* 출력은 어떤 구간에도 수렴되지 않고, 극단적인 출력값이 생성될 가능성이 있다."
      ],
      "metadata": {
        "id": "_g8m5GiJJRsc"
      }
    },
    {
      "cell_type": "markdown",
      "source": [
        "## 20.5 손실 함수\n",
        "\n",
        "**손실 함수(오차 함수)** : 학습시 모델의 출력과 지도 데이터의 차이(잘못된 상태)를 평가하는 함수\n",
        "\n",
        "* 제곱오차, 교차 엔트로피 오차 등이 사용\n",
        "* 손실 함수를 최소화하도록 -> 오차역전파법 -> 각 층의 가중치 갱신\n"
      ],
      "metadata": {
        "id": "cfLt6hcOJ8Oj"
      }
    },
    {
      "cell_type": "markdown",
      "source": [
        "### 20.5.1 제곱오차\n",
        "\n",
        "**제곱오차** : 최소제곱법으로 다양한 분야에서 사용되는 오차 함수\n",
        "\n",
        "\n",
        "\n",
        "```\n",
        "E = sigma((ti-yi)^2, i는 1부터 N까지)    # yi는 예측 라벨, ti는 정답 라벨\n",
        "```\n",
        "\n",
        "* 연속값 평가 뛰어나 => 회귀 모델의 오차 함수로 사용\n",
        "* 최소치 부근에서 천천히 갱신되므로 학습이 수렴하기 쉽다."
      ],
      "metadata": {
        "id": "sJZtJ7xFKYb8"
      }
    },
    {
      "cell_type": "markdown",
      "source": [
        "### 20.5.2 교차 엔트로피 오차\n",
        "\n",
        "\n",
        "**교차 엔트로피 오차(CEE)** : 이항 분류의 평가에 특화 => 분류 모델의 오차 함수로 사용\n",
        "\n",
        "\n",
        "\n",
        "```\n",
        "E = sigma(-ti*log(yi) - (1-ti)*log(1-yi), i는 1부터 N까지)   # |ti-yi|이 작을 때 0에 가까운 값 취해\n",
        "```\n",
        "* 예측라벨과 정답라벨의 값이 가까울수록 좋아 -> 0~1 사이에 있는 두 숫자의 차이를 평가하는 합리적인 함수\n"
      ],
      "metadata": {
        "id": "TPbklB2QLHZq"
      }
    },
    {
      "cell_type": "markdown",
      "source": [
        "## 20.6 최적화 함수\n",
        "\n",
        "**최적화 함수** : 다양한 요소를 감안하여 가중치 갱신 수행\n",
        "\n",
        "* 각각의 최적화 함수에 따라 가중치 갱신 방법이 달라 -> 하이퍼파라미터의 일종"
      ],
      "metadata": {
        "id": "ZZio2fhRYLhY"
      }
    },
    {
      "cell_type": "markdown",
      "source": [
        "## 20.7 학습률\n",
        "\n",
        "**학습률** : 각 층의 가중치를 한 번에 어느 정도 변경할지 결정하는 하이퍼파라미터"
      ],
      "metadata": {
        "id": "4Qe5WwJiYkZ3"
      }
    },
    {
      "cell_type": "code",
      "source": [
        "import numpy as np\n",
        "import matplotlib.pyplot as plt\n",
        "from keras.datasets import mnist\n",
        "from keras.layers import Activation, Dense, Dropout\n",
        "from keras.models import Sequential, load_model\n",
        "from keras import optimizers\n",
        "from keras.utils.np_utils import to_categorical\n",
        "import tensorflow as tf\n",
        "\n",
        "(X_train, y_train), (X_test, y_test) = mnist.load_data()\n",
        "\n",
        "X_train = X_train.reshape(X_train.shape[0], 784)[:6000]\n",
        "X_test = X_test.reshape(X_test.shape[0], 784)[:1000]\n",
        "y_train = to_categorical(y_train)[:6000]\n",
        "y_test = to_categorical(y_test)[:1000]\n",
        "\n",
        "model = Sequential()\n",
        "model.add(Dense(256, input_dim=784))\n",
        "model.add(Activation(\"sigmoid\"))\n",
        "model.add(Dense(128))\n",
        "model.add(Activation(\"sigmoid\"))\n",
        "model.add(Dropout(rate=0.5))\n",
        "model.add(Dense(10))\n",
        "model.add(Activation(\"softmax\"))\n",
        "\n",
        "def funcA():\n",
        "  global lr\n",
        "  lr = 0.01\n",
        "\n",
        "def funcB():\n",
        "  global lr\n",
        "  lr = 0.1\n",
        "\n",
        "def funcC():\n",
        "  global lr\n",
        "  lr = 1.0\n",
        "\n",
        "funcA()\n",
        "funcB()\n",
        "funcC()\n",
        "\n",
        "sgd = tf.optimizers.SGD(lr=0.1)\n",
        "\n",
        "model.compile(optimizer=sgd, loss=\"categorical_crossentropy\", metrics =[\"accuracy\"])\n",
        "\n",
        "model.fit(X_train, y_train, batch_size=32, epochs=3, verbose=1)\n",
        "\n",
        "score = model.evaluate(X_test, y_test, verbose=0)\n",
        "print(\"evaluate loss: {0[0]}\\nevaluate acc: {0[1]}\".format(score))"
      ],
      "metadata": {
        "id": "fKQLGclNnL9t",
        "colab": {
          "base_uri": "https://localhost:8080/"
        },
        "outputId": "365cb6aa-da9e-4131-9158-482a654a97cb"
      },
      "execution_count": null,
      "outputs": [
        {
          "output_type": "stream",
          "name": "stdout",
          "text": [
            "Epoch 1/3\n",
            "188/188 [==============================] - 2s 4ms/step - loss: 1.7661 - accuracy: 0.4017\n",
            "Epoch 2/3\n",
            "188/188 [==============================] - 1s 4ms/step - loss: 1.0725 - accuracy: 0.6642\n",
            "Epoch 3/3\n",
            "188/188 [==============================] - 1s 4ms/step - loss: 0.8720 - accuracy: 0.7285\n",
            "evaluate loss: 0.7277602553367615\n",
            "evaluate acc: 0.7919999957084656\n"
          ]
        }
      ]
    },
    {
      "cell_type": "markdown",
      "source": [
        "## 20.8 미니배치 학습\n",
        "\n",
        "**배치 크기(batch size)** : 모델의 학습을 실시할 때 한 번에 전달하는 데이터 수, 하이퍼파라미터\n",
        "\n",
        ">* 한 번에 여러 데이터를 전달했을 때 모델은 각 데이터의 손실과 손실 함수의 기울기를 구해 but 가중치 갱신은 구해진 기울기의 평균으로 한 번만 실시\n",
        ">* 복수의 데이터 이용하여 가중치 갱신 -> 극단적으로 바뀐 데이터의 영향 덜 받아, 병렬 계산 가능 -> 계산 시간 단축 \n",
        ">* BUT 극단적인 가중치의 갱신 발생x -> 손실 함수의 국소해에서 벗어나지 x\n",
        "\n",
        "* 편향된 데이터 많을 때 = 배치 크기 크게 / 유사한 데이터 많을 때 = 배치 크기 작게\n",
        "\n",
        ">* 온라인 학습(확률적 경사하강법) = 배치 크기를 1로 하는 방식\n",
        ">* 배치 학습(경사하강법) = 배치 크기를 전체 데이터 수로 지정하는 방식\n",
        ">* 미니배치 학습 = 이들의 중간이 되는 방식"
      ],
      "metadata": {
        "id": "ZkOQGfKegv6Z"
      }
    },
    {
      "cell_type": "markdown",
      "source": [
        "## 20.9 반복 학습\n",
        "\n",
        "**반복 학습** : 모델의 정확도를 높이기 위해서 동일한 훈련 데이터를 사용하여 여러 번 학습\n",
        "\n",
        "* 학습할 획수 = epoch 수(하이퍼파라미터)\n",
        "* epoch 수를 높인다고 해서 모델의 정확도 계속 오르는것x, 오히려 과학습"
      ],
      "metadata": {
        "id": "iFJ-qZc5hIDD"
      }
    },
    {
      "cell_type": "code",
      "source": [
        "import numpy as np\n",
        "import matplotlib.pyplot as plt\n",
        "from keras.datasets import mnist\n",
        "from keras.layers import Activation, Dense, Dropout\n",
        "from keras.models import Sequential, load_model\n",
        "from keras import optimizers\n",
        "from keras.utils.np_utils import to_categorical\n",
        "import tensorflow as tf\n",
        "\n",
        "(X_train, y_train), (X_test, y_test) = mnist.load_data()\n",
        "\n",
        "X_train = X_train.reshape(X_train.shape[0], 784)[:6000]\n",
        "X_test = X_test.reshape(X_test.shape[0], 784)[:1000]\n",
        "y_train = to_categorical(y_train)[:6000]\n",
        "y_test = to_categorical(y_test)[:1000]\n",
        "\n",
        "model = Sequential()\n",
        "model.add(Dense(256, input_dim=784))\n",
        "model.add(Activation(\"sigmoid\"))\n",
        "model.add(Dense(128))\n",
        "model.add(Activation(\"sigmoid\"))\n",
        "model.add(Dense(10))\n",
        "model.add(Activation(\"softmax\"))\n",
        "\n",
        "sgd = tf.optimizers.SGD(lr=0.1)\n",
        "\n",
        "model.compile(optimizer=sgd, loss=\"categorical_crossentropy\", metrics =[\"accuracy\"])\n",
        "\n",
        "def funcA():\n",
        "  global epochs\n",
        "  epochs = 5\n",
        "\n",
        "def funcB():\n",
        "  global epochs\n",
        "  epochs = 10\n",
        "\n",
        "def funcC():\n",
        "  global epochs\n",
        "  epochs = 60\n",
        "\n",
        "#funcA()\n",
        "funcB()\n",
        "#funcC()\n",
        "\n",
        "\n",
        "history = model.fit(X_train, y_train, batch_size=32, epochs=epochs, verbose=1, validation_data=(X_test, y_test))\n",
        "plt.plot(history.history[\"accuracy\"], label=\"acc\", ls=\"-\", marker=\"o\")\n",
        "plt.plot(history.history[\"val_accuracy\"], label=\"val_acc\", ls=\"-\", marker=\"x\")\n",
        "plt.ylabel(\"accuracy\")\n",
        "plt.xlabel(\"epoch\")\n",
        "plt.legend(loc=\"best\")\n",
        "plt.show()\n",
        "\n",
        "score = model.evaluate(X_test, y_test, verbose=0)\n",
        "print(\"evaluate loss: {0[0]}\\nevaluate acc: {0[1]}\".format(score))"
      ],
      "metadata": {
        "id": "LeLhZhlIgrWx",
        "colab": {
          "base_uri": "https://localhost:8080/",
          "height": 690
        },
        "outputId": "f4c2fca3-f547-424c-cde3-5dad0c00b71d"
      },
      "execution_count": null,
      "outputs": [
        {
          "output_type": "stream",
          "name": "stdout",
          "text": [
            "Epoch 1/10\n",
            "188/188 [==============================] - 1s 5ms/step - loss: 1.3971 - accuracy: 0.6313 - val_loss: 0.9396 - val_accuracy: 0.7240\n",
            "Epoch 2/10\n",
            "188/188 [==============================] - 1s 4ms/step - loss: 0.7132 - accuracy: 0.8312 - val_loss: 0.7315 - val_accuracy: 0.7860\n",
            "Epoch 3/10\n",
            "188/188 [==============================] - 1s 5ms/step - loss: 0.5805 - accuracy: 0.8575 - val_loss: 0.6213 - val_accuracy: 0.8020\n",
            "Epoch 4/10\n",
            "188/188 [==============================] - 1s 4ms/step - loss: 0.5158 - accuracy: 0.8657 - val_loss: 0.6136 - val_accuracy: 0.8320\n",
            "Epoch 5/10\n",
            "188/188 [==============================] - 1s 5ms/step - loss: 0.5323 - accuracy: 0.8562 - val_loss: 0.6009 - val_accuracy: 0.8130\n",
            "Epoch 6/10\n",
            "188/188 [==============================] - 1s 4ms/step - loss: 0.5015 - accuracy: 0.8627 - val_loss: 0.6445 - val_accuracy: 0.7960\n",
            "Epoch 7/10\n",
            "188/188 [==============================] - 1s 5ms/step - loss: 0.5508 - accuracy: 0.8522 - val_loss: 0.5898 - val_accuracy: 0.8300\n",
            "Epoch 8/10\n",
            "188/188 [==============================] - 1s 4ms/step - loss: 0.5124 - accuracy: 0.8550 - val_loss: 0.6610 - val_accuracy: 0.7940\n",
            "Epoch 9/10\n",
            "188/188 [==============================] - 1s 5ms/step - loss: 0.5106 - accuracy: 0.8487 - val_loss: 0.6237 - val_accuracy: 0.8010\n",
            "Epoch 10/10\n",
            "188/188 [==============================] - 1s 5ms/step - loss: 0.5316 - accuracy: 0.8502 - val_loss: 0.7021 - val_accuracy: 0.7610\n"
          ]
        },
        {
          "output_type": "display_data",
          "data": {
            "text/plain": [
              "<Figure size 432x288 with 1 Axes>"
            ],
            "image/png": "[encoded data removed]"
          },
          "metadata": {
            "needs_background": "light"
          }
        },
        {
          "output_type": "stream",
          "name": "stdout",
          "text": [
            "evaluate loss: 0.7020946145057678\n",
            "evaluate acc: 0.7609999775886536\n"
          ]
        }
      ]
    }
  ]
}